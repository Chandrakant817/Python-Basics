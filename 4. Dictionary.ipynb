{
 "cells": [
  {
   "cell_type": "code",
   "execution_count": 1,
   "id": "21e07c79",
   "metadata": {},
   "outputs": [],
   "source": [
    "# Make a dictionary with {} and : to signify a key and a value\n",
    "marvel_dict = {'Name':'Thor','Place':'Asgard','Weapon' : 'Hammer', 1:2, 3 : 'power', 'alibies' : ['Ironman','Captain America'], 'abc' : {1:2, 4:5}}"
   ]
  },
  {
   "cell_type": "code",
   "execution_count": 2,
   "id": "964f37ec",
   "metadata": {},
   "outputs": [
    {
     "data": {
      "text/plain": [
       "{'Name': 'Thor',\n",
       " 'Place': 'Asgard',\n",
       " 'Weapon': 'Hammer',\n",
       " 1: 2,\n",
       " 3: 'power',\n",
       " 'alibies': ['Ironman', 'Captain America'],\n",
       " 'abc': {1: 2, 4: 5}}"
      ]
     },
     "execution_count": 2,
     "metadata": {},
     "output_type": "execute_result"
    }
   ],
   "source": [
    "marvel_dict"
   ]
  },
  {
   "cell_type": "code",
   "execution_count": 3,
   "id": "719fbc8c",
   "metadata": {},
   "outputs": [],
   "source": [
    "#marvel_dict = {\"Name\",\"Place\"}"
   ]
  },
  {
   "cell_type": "code",
   "execution_count": 4,
   "id": "05669147",
   "metadata": {},
   "outputs": [],
   "source": [
    "#type(marvel_dict)"
   ]
  },
  {
   "cell_type": "code",
   "execution_count": 5,
   "id": "72a32416",
   "metadata": {},
   "outputs": [],
   "source": [
    "#type(marvel_dict)"
   ]
  },
  {
   "cell_type": "code",
   "execution_count": null,
   "id": "8882954c",
   "metadata": {},
   "outputs": [],
   "source": []
  },
  {
   "cell_type": "code",
   "execution_count": 6,
   "id": "2608422f",
   "metadata": {},
   "outputs": [],
   "source": [
    "#...........Sets will contains All the Unique values from the data\n",
    "\n",
    "num = {1,1,2,3,3}"
   ]
  },
  {
   "cell_type": "code",
   "execution_count": 7,
   "id": "c28b1211",
   "metadata": {},
   "outputs": [
    {
     "data": {
      "text/plain": [
       "{1, 2, 3}"
      ]
     },
     "execution_count": 7,
     "metadata": {},
     "output_type": "execute_result"
    }
   ],
   "source": [
    "num"
   ]
  },
  {
   "cell_type": "code",
   "execution_count": null,
   "id": "5495042f",
   "metadata": {},
   "outputs": [],
   "source": []
  },
  {
   "cell_type": "code",
   "execution_count": 8,
   "id": "bc0b5932",
   "metadata": {},
   "outputs": [
    {
     "data": {
      "text/plain": [
       "dict_keys(['Name', 'Place', 'Weapon', 1, 3, 'alibies', 'abc'])"
      ]
     },
     "execution_count": 8,
     "metadata": {},
     "output_type": "execute_result"
    }
   ],
   "source": [
    "marvel_dict.keys()"
   ]
  },
  {
   "cell_type": "code",
   "execution_count": 9,
   "id": "e3c76bb6",
   "metadata": {},
   "outputs": [
    {
     "data": {
      "text/plain": [
       "dict_values(['Thor', 'Asgard', 'Hammer', 2, 'power', ['Ironman', 'Captain America'], {1: 2, 4: 5}])"
      ]
     },
     "execution_count": 9,
     "metadata": {},
     "output_type": "execute_result"
    }
   ],
   "source": [
    "marvel_dict.values()"
   ]
  },
  {
   "cell_type": "code",
   "execution_count": 10,
   "id": "d42cc27c",
   "metadata": {},
   "outputs": [
    {
     "data": {
      "text/plain": [
       "dict_items([('Name', 'Thor'), ('Place', 'Asgard'), ('Weapon', 'Hammer'), (1, 2), (3, 'power'), ('alibies', ['Ironman', 'Captain America']), ('abc', {1: 2, 4: 5})])"
      ]
     },
     "execution_count": 10,
     "metadata": {},
     "output_type": "execute_result"
    }
   ],
   "source": [
    "marvel_dict.items()"
   ]
  },
  {
   "cell_type": "code",
   "execution_count": 13,
   "id": "c61342d1",
   "metadata": {},
   "outputs": [
    {
     "data": {
      "text/plain": [
       "{'Name': 'Thor',\n",
       " 'Place': 'Asgard',\n",
       " 'Weapon': 'Hammer',\n",
       " 1: 2,\n",
       " 3: 'power',\n",
       " 'alibies': ['Ironman', 'Captain America'],\n",
       " 'abc': {1: 2, 4: 5}}"
      ]
     },
     "execution_count": 13,
     "metadata": {},
     "output_type": "execute_result"
    }
   ],
   "source": [
    "marvel_dict"
   ]
  },
  {
   "cell_type": "code",
   "execution_count": 11,
   "id": "7ab13a2d",
   "metadata": {},
   "outputs": [
    {
     "data": {
      "text/plain": [
       "'Thor'"
      ]
     },
     "execution_count": 11,
     "metadata": {},
     "output_type": "execute_result"
    }
   ],
   "source": [
    "marvel_dict[\"Name\"]"
   ]
  },
  {
   "cell_type": "code",
   "execution_count": 12,
   "id": "25c858f8",
   "metadata": {},
   "outputs": [
    {
     "data": {
      "text/plain": [
       "'Asgard'"
      ]
     },
     "execution_count": 12,
     "metadata": {},
     "output_type": "execute_result"
    }
   ],
   "source": [
    "marvel_dict[\"Place\"]"
   ]
  },
  {
   "cell_type": "code",
   "execution_count": 14,
   "id": "333ffc5b",
   "metadata": {},
   "outputs": [
    {
     "data": {
      "text/plain": [
       "'Hammer'"
      ]
     },
     "execution_count": 14,
     "metadata": {},
     "output_type": "execute_result"
    }
   ],
   "source": [
    "marvel_dict[\"Weapon\"]"
   ]
  },
  {
   "cell_type": "code",
   "execution_count": 15,
   "id": "fa4e5642",
   "metadata": {},
   "outputs": [
    {
     "ename": "KeyError",
     "evalue": "'Random'",
     "output_type": "error",
     "traceback": [
      "\u001b[1;31m---------------------------------------------------------------------------\u001b[0m",
      "\u001b[1;31mKeyError\u001b[0m                                  Traceback (most recent call last)",
      "\u001b[1;32m<ipython-input-15-fbd0308d439c>\u001b[0m in \u001b[0;36m<module>\u001b[1;34m\u001b[0m\n\u001b[1;32m----> 1\u001b[1;33m \u001b[0mmarvel_dict\u001b[0m\u001b[1;33m[\u001b[0m\u001b[1;34m\"Random\"\u001b[0m\u001b[1;33m]\u001b[0m\u001b[1;33m\u001b[0m\u001b[1;33m\u001b[0m\u001b[0m\n\u001b[0m",
      "\u001b[1;31mKeyError\u001b[0m: 'Random'"
     ]
    }
   ],
   "source": [
    "marvel_dict[\"Random\"]"
   ]
  },
  {
   "cell_type": "code",
   "execution_count": 16,
   "id": "79244cb6",
   "metadata": {},
   "outputs": [
    {
     "data": {
      "text/plain": [
       "['Ironman', 'Captain America']"
      ]
     },
     "execution_count": 16,
     "metadata": {},
     "output_type": "execute_result"
    }
   ],
   "source": [
    "marvel_dict[\"alibies\"]"
   ]
  },
  {
   "cell_type": "code",
   "execution_count": 17,
   "id": "432349f7",
   "metadata": {},
   "outputs": [],
   "source": [
    "marvel_dict[\"xyz\"] = \"Chandraka\" "
   ]
  },
  {
   "cell_type": "code",
   "execution_count": 18,
   "id": "23c2c1dd",
   "metadata": {},
   "outputs": [
    {
     "data": {
      "text/plain": [
       "{'Name': 'Thor',\n",
       " 'Place': 'Asgard',\n",
       " 'Weapon': 'Hammer',\n",
       " 1: 2,\n",
       " 3: 'power',\n",
       " 'alibies': ['Ironman', 'Captain America'],\n",
       " 'abc': {1: 2, 4: 5},\n",
       " 'xyz': 'Chandraka'}"
      ]
     },
     "execution_count": 18,
     "metadata": {},
     "output_type": "execute_result"
    }
   ],
   "source": [
    "marvel_dict"
   ]
  },
  {
   "cell_type": "code",
   "execution_count": 24,
   "id": "5e7be156",
   "metadata": {},
   "outputs": [
    {
     "data": {
      "text/plain": [
       "'Chandraka'"
      ]
     },
     "execution_count": 24,
     "metadata": {},
     "output_type": "execute_result"
    }
   ],
   "source": [
    "#pop the element from dict\n",
    "\n",
    "marvel_dict.pop('xyz')"
   ]
  },
  {
   "cell_type": "code",
   "execution_count": 32,
   "id": "4dab0e97",
   "metadata": {},
   "outputs": [
    {
     "data": {
      "text/plain": [
       "{'Name': 'Thor',\n",
       " 'Place': 'Asgard',\n",
       " 'Weapon': 'Hammer',\n",
       " 1: 2,\n",
       " 3: 'power',\n",
       " 'alibies': ['Ironman', 'Captain America'],\n",
       " 'abc': {1: 2, 4: 5}}"
      ]
     },
     "execution_count": 32,
     "metadata": {},
     "output_type": "execute_result"
    }
   ],
   "source": [
    "marvel_dict"
   ]
  },
  {
   "cell_type": "code",
   "execution_count": 34,
   "id": "6a21010d",
   "metadata": {},
   "outputs": [
    {
     "data": {
      "text/plain": [
       "[('Name', 'Thor'),\n",
       " ('Place', 'Asgard'),\n",
       " ('Weapon', 'Hammer'),\n",
       " (1, 2),\n",
       " (3, 'power'),\n",
       " ('alibies', ['Ironman', 'Captain America']),\n",
       " ('abc', {1: 2, 4: 5})]"
      ]
     },
     "execution_count": 34,
     "metadata": {},
     "output_type": "execute_result"
    }
   ],
   "source": [
    "##........Dict--> to List\n",
    "\n",
    "list(marvel_dict.items())"
   ]
  },
  {
   "cell_type": "code",
   "execution_count": 35,
   "id": "5faae5e6",
   "metadata": {},
   "outputs": [
    {
     "data": {
      "text/plain": [
       "'Asgard'"
      ]
     },
     "execution_count": 35,
     "metadata": {},
     "output_type": "execute_result"
    }
   ],
   "source": [
    "marvel_dict.get(\"Place\")"
   ]
  },
  {
   "cell_type": "code",
   "execution_count": 36,
   "id": "d8323104",
   "metadata": {},
   "outputs": [],
   "source": [
    "##......If value is not present then also you will not get Error in output\n",
    "\n",
    "marvel_dict.get(\"Random\")"
   ]
  },
  {
   "cell_type": "code",
   "execution_count": 37,
   "id": "2c7ed077",
   "metadata": {},
   "outputs": [
    {
     "ename": "TypeError",
     "evalue": "'builtin_function_or_method' object is not subscriptable",
     "output_type": "error",
     "traceback": [
      "\u001b[1;31m---------------------------------------------------------------------------\u001b[0m",
      "\u001b[1;31mTypeError\u001b[0m                                 Traceback (most recent call last)",
      "\u001b[1;32m<ipython-input-37-de9f6eae3da8>\u001b[0m in \u001b[0;36m<module>\u001b[1;34m\u001b[0m\n\u001b[1;32m----> 1\u001b[1;33m \u001b[0mmarvel_dict\u001b[0m\u001b[1;33m.\u001b[0m\u001b[0mget\u001b[0m\u001b[1;33m[\u001b[0m\u001b[1;34m\"Place\"\u001b[0m\u001b[1;33m]\u001b[0m\u001b[1;33m\u001b[0m\u001b[1;33m\u001b[0m\u001b[0m\n\u001b[0m",
      "\u001b[1;31mTypeError\u001b[0m: 'builtin_function_or_method' object is not subscriptable"
     ]
    }
   ],
   "source": [
    "marvel_dict.get[\"Place\"]"
   ]
  },
  {
   "cell_type": "code",
   "execution_count": 39,
   "id": "f8a164b7",
   "metadata": {},
   "outputs": [
    {
     "data": {
      "text/plain": [
       "'A'"
      ]
     },
     "execution_count": 39,
     "metadata": {},
     "output_type": "execute_result"
    }
   ],
   "source": [
    "marvel_dict[\"Place\"][0]"
   ]
  },
  {
   "cell_type": "code",
   "execution_count": 40,
   "id": "1e587223",
   "metadata": {},
   "outputs": [
    {
     "data": {
      "text/plain": [
       "'Captain America'"
      ]
     },
     "execution_count": 40,
     "metadata": {},
     "output_type": "execute_result"
    }
   ],
   "source": [
    "marvel_dict[\"alibies\"][1]"
   ]
  },
  {
   "cell_type": "code",
   "execution_count": 42,
   "id": "24024ad2",
   "metadata": {},
   "outputs": [
    {
     "data": {
      "text/plain": [
       "2"
      ]
     },
     "execution_count": 42,
     "metadata": {},
     "output_type": "execute_result"
    }
   ],
   "source": [
    "marvel_dict[\"abc\"][1]"
   ]
  },
  {
   "cell_type": "code",
   "execution_count": 43,
   "id": "7c2ef238",
   "metadata": {},
   "outputs": [
    {
     "data": {
      "text/plain": [
       "5"
      ]
     },
     "execution_count": 43,
     "metadata": {},
     "output_type": "execute_result"
    }
   ],
   "source": [
    "marvel_dict[\"abc\"][4]"
   ]
  },
  {
   "cell_type": "code",
   "execution_count": 44,
   "id": "4e847e70",
   "metadata": {},
   "outputs": [
    {
     "data": {
      "text/plain": [
       "'CAPTAIN AMERICA'"
      ]
     },
     "execution_count": 44,
     "metadata": {},
     "output_type": "execute_result"
    }
   ],
   "source": [
    "marvel_dict[\"alibies\"][1].upper()"
   ]
  },
  {
   "cell_type": "code",
   "execution_count": 45,
   "id": "eb3da720",
   "metadata": {},
   "outputs": [
    {
     "data": {
      "text/plain": [
       "'captain america'"
      ]
     },
     "execution_count": 45,
     "metadata": {},
     "output_type": "execute_result"
    }
   ],
   "source": [
    "marvel_dict[\"alibies\"][1].lower()"
   ]
  },
  {
   "cell_type": "code",
   "execution_count": 46,
   "id": "6efc220f",
   "metadata": {},
   "outputs": [
    {
     "data": {
      "text/plain": [
       "{'Name': 'Thor',\n",
       " 'Place': 'Asgard',\n",
       " 'Weapon': 'Hammer',\n",
       " 1: 2,\n",
       " 3: 'power',\n",
       " 'alibies': ['Ironman', 'Captain America'],\n",
       " 'abc': {1: 2, 4: 5}}"
      ]
     },
     "execution_count": 46,
     "metadata": {},
     "output_type": "execute_result"
    }
   ],
   "source": [
    "marvel_dict"
   ]
  },
  {
   "cell_type": "code",
   "execution_count": 47,
   "id": "066aeace",
   "metadata": {},
   "outputs": [],
   "source": [
    "marvel_dict[\"Random\"] = \"30 x power\""
   ]
  },
  {
   "cell_type": "code",
   "execution_count": 48,
   "id": "621e7aa3",
   "metadata": {},
   "outputs": [
    {
     "data": {
      "text/plain": [
       "{'Name': 'Thor',\n",
       " 'Place': 'Asgard',\n",
       " 'Weapon': 'Hammer',\n",
       " 1: 2,\n",
       " 3: 'power',\n",
       " 'alibies': ['Ironman', 'Captain America'],\n",
       " 'abc': {1: 2, 4: 5},\n",
       " 'Random': '30 x power'}"
      ]
     },
     "execution_count": 48,
     "metadata": {},
     "output_type": "execute_result"
    }
   ],
   "source": [
    "marvel_dict"
   ]
  },
  {
   "cell_type": "code",
   "execution_count": 49,
   "id": "1d91aabf",
   "metadata": {},
   "outputs": [],
   "source": [
    "marvel_dict[\"Random 2\"] = [1,2,3]"
   ]
  },
  {
   "cell_type": "code",
   "execution_count": 50,
   "id": "65e3793f",
   "metadata": {},
   "outputs": [
    {
     "data": {
      "text/plain": [
       "{'Name': 'Thor',\n",
       " 'Place': 'Asgard',\n",
       " 'Weapon': 'Hammer',\n",
       " 1: 2,\n",
       " 3: 'power',\n",
       " 'alibies': ['Ironman', 'Captain America'],\n",
       " 'abc': {1: 2, 4: 5},\n",
       " 'Random': '30 x power',\n",
       " 'Random 2': [1, 2, 3]}"
      ]
     },
     "execution_count": 50,
     "metadata": {},
     "output_type": "execute_result"
    }
   ],
   "source": [
    "marvel_dict"
   ]
  },
  {
   "cell_type": "code",
   "execution_count": 54,
   "id": "1ec0b655",
   "metadata": {},
   "outputs": [],
   "source": [
    "#......Update the element\n",
    "\n",
    "marvel_dict.update({\"Place\" : \"July\"})"
   ]
  },
  {
   "cell_type": "code",
   "execution_count": 55,
   "id": "ef7340cd",
   "metadata": {},
   "outputs": [
    {
     "data": {
      "text/plain": [
       "{'Name': 'Thor',\n",
       " 'Place': 'July',\n",
       " 'Weapon': 'Hammer',\n",
       " 1: 2,\n",
       " 3: 'power',\n",
       " 'alibies': ['Ironman', 'Captain America'],\n",
       " 'abc': {1: 2, 4: 5},\n",
       " 'Random': '30 x power',\n",
       " 'Random 2': [1, 2, 3]}"
      ]
     },
     "execution_count": 55,
     "metadata": {},
     "output_type": "execute_result"
    }
   ],
   "source": [
    "marvel_dict"
   ]
  },
  {
   "cell_type": "code",
   "execution_count": 58,
   "id": "8b4b44fe",
   "metadata": {},
   "outputs": [],
   "source": [
    "del marvel_dict [\"Random\"]"
   ]
  },
  {
   "cell_type": "code",
   "execution_count": 59,
   "id": "df2e63e5",
   "metadata": {},
   "outputs": [
    {
     "data": {
      "text/plain": [
       "{'Name': 'Thor',\n",
       " 'Place': 'July',\n",
       " 'Weapon': 'Hammer',\n",
       " 1: 2,\n",
       " 3: 'power',\n",
       " 'alibies': ['Ironman', 'Captain America'],\n",
       " 'abc': {1: 2, 4: 5},\n",
       " 'Random 2': [1, 2, 3]}"
      ]
     },
     "execution_count": 59,
     "metadata": {},
     "output_type": "execute_result"
    }
   ],
   "source": [
    "marvel_dict"
   ]
  },
  {
   "cell_type": "code",
   "execution_count": 60,
   "id": "5a06328e",
   "metadata": {},
   "outputs": [
    {
     "data": {
      "text/plain": [
       "[1, 2, 3]"
      ]
     },
     "execution_count": 60,
     "metadata": {},
     "output_type": "execute_result"
    }
   ],
   "source": [
    "marvel_dict.pop(\"Random 2\")"
   ]
  },
  {
   "cell_type": "code",
   "execution_count": 61,
   "id": "3fdf3a01",
   "metadata": {},
   "outputs": [
    {
     "data": {
      "text/plain": [
       "{'Name': 'Thor',\n",
       " 'Place': 'July',\n",
       " 'Weapon': 'Hammer',\n",
       " 1: 2,\n",
       " 3: 'power',\n",
       " 'alibies': ['Ironman', 'Captain America'],\n",
       " 'abc': {1: 2, 4: 5}}"
      ]
     },
     "execution_count": 61,
     "metadata": {},
     "output_type": "execute_result"
    }
   ],
   "source": [
    "marvel_dict"
   ]
  },
  {
   "cell_type": "code",
   "execution_count": 62,
   "id": "25bfbfe2",
   "metadata": {},
   "outputs": [
    {
     "data": {
      "text/plain": [
       "True"
      ]
     },
     "execution_count": 62,
     "metadata": {},
     "output_type": "execute_result"
    }
   ],
   "source": [
    "\"Name\" in marvel_dict"
   ]
  },
  {
   "cell_type": "code",
   "execution_count": 67,
   "id": "b4130fb2",
   "metadata": {},
   "outputs": [
    {
     "data": {
      "text/plain": [
       "True"
      ]
     },
     "execution_count": 67,
     "metadata": {},
     "output_type": "execute_result"
    }
   ],
   "source": [
    "\"Randon\" not in marvel_dict"
   ]
  },
  {
   "cell_type": "code",
   "execution_count": 68,
   "id": "d3f009bf",
   "metadata": {},
   "outputs": [
    {
     "data": {
      "text/plain": [
       "7"
      ]
     },
     "execution_count": 68,
     "metadata": {},
     "output_type": "execute_result"
    }
   ],
   "source": [
    "##  7 key value pair\n",
    "\n",
    "len(marvel_dict)"
   ]
  },
  {
   "cell_type": "code",
   "execution_count": null,
   "id": "70ab7a2e",
   "metadata": {},
   "outputs": [],
   "source": []
  }
 ],
 "metadata": {
  "kernelspec": {
   "display_name": "Python 3",
   "language": "python",
   "name": "python3"
  },
  "language_info": {
   "codemirror_mode": {
    "name": "ipython",
    "version": 3
   },
   "file_extension": ".py",
   "mimetype": "text/x-python",
   "name": "python",
   "nbconvert_exporter": "python",
   "pygments_lexer": "ipython3",
   "version": "3.8.8"
  }
 },
 "nbformat": 4,
 "nbformat_minor": 5
}
