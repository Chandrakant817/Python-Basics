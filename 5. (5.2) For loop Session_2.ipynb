{
 "cells": [
  {
   "cell_type": "code",
   "execution_count": 1,
   "id": "c7f7cf6e",
   "metadata": {},
   "outputs": [
    {
     "name": "stdout",
     "output_type": "stream",
     "text": [
      "spain\n",
      "france\n",
      "germany\n",
      "norway\n",
      "italy\n",
      "poland\n",
      "australia\n"
     ]
    }
   ],
   "source": [
    "europe = {'spain':'madrid', 'france':'paris', 'germany':'bonn', \n",
    "          'norway':'oslo', 'italy':'rome', 'poland':'warsaw', 'australia':'vienna' }\n",
    "\n",
    "for i in europe:\n",
    "  print(i)"
   ]
  },
  {
   "cell_type": "code",
   "execution_count": 3,
   "id": "6052c9a1",
   "metadata": {},
   "outputs": [
    {
     "name": "stdout",
     "output_type": "stream",
     "text": [
      "spain madrid\n",
      "france paris\n",
      "germany bonn\n",
      "norway oslo\n",
      "italy rome\n",
      "poland warsaw\n",
      "australia vienna\n"
     ]
    }
   ],
   "source": [
    "for i,j in europe.items():\n",
    "  print(i,j)"
   ]
  },
  {
   "cell_type": "code",
   "execution_count": 5,
   "id": "a35afcbd",
   "metadata": {},
   "outputs": [
    {
     "name": "stdout",
     "output_type": "stream",
     "text": [
      "madrid spain\n",
      "paris france\n",
      "bonn germany\n",
      "oslo norway\n",
      "rome italy\n",
      "warsaw poland\n",
      "vienna australia\n"
     ]
    }
   ],
   "source": [
    "for keys,values in europe.items():\n",
    "    print(values,keys)"
   ]
  },
  {
   "cell_type": "code",
   "execution_count": 6,
   "id": "4328df08",
   "metadata": {},
   "outputs": [],
   "source": [
    "list1 = [1,4,6,7,9]"
   ]
  },
  {
   "cell_type": "code",
   "execution_count": 10,
   "id": "d32a0c58",
   "metadata": {},
   "outputs": [
    {
     "name": "stdout",
     "output_type": "stream",
     "text": [
      "1\n",
      "4\n",
      "6\n",
      "7\n"
     ]
    }
   ],
   "source": [
    "for i in list1[0:4]:\n",
    "    print(i)"
   ]
  },
  {
   "cell_type": "code",
   "execution_count": 11,
   "id": "b1a87f58",
   "metadata": {},
   "outputs": [
    {
     "name": "stdout",
     "output_type": "stream",
     "text": [
      "9\n",
      "7\n",
      "6\n",
      "4\n",
      "1\n"
     ]
    }
   ],
   "source": [
    "for i in list1[::-1]:\n",
    "    print(i)"
   ]
  },
  {
   "cell_type": "code",
   "execution_count": 12,
   "id": "4d2df6c2",
   "metadata": {},
   "outputs": [
    {
     "data": {
      "text/plain": [
       "[0, 1, 2, 3, 4, 5, 6, 7, 8, 9]"
      ]
     },
     "execution_count": 12,
     "metadata": {},
     "output_type": "execute_result"
    }
   ],
   "source": [
    "list(range(10))"
   ]
  },
  {
   "cell_type": "code",
   "execution_count": 13,
   "id": "3538f4a0",
   "metadata": {},
   "outputs": [
    {
     "data": {
      "text/plain": [
       "[1, 2, 3, 4, 5, 6, 7, 8, 9, 10]"
      ]
     },
     "execution_count": 13,
     "metadata": {},
     "output_type": "execute_result"
    }
   ],
   "source": [
    "list(range(1,11))"
   ]
  },
  {
   "cell_type": "code",
   "execution_count": 15,
   "id": "8392cf45",
   "metadata": {},
   "outputs": [
    {
     "data": {
      "text/plain": [
       "[11, 10, 9, 8, 7, 6, 5, 4, 3, 2, 1]"
      ]
     },
     "execution_count": 15,
     "metadata": {},
     "output_type": "execute_result"
    }
   ],
   "source": [
    "list(range(11,0,-1))"
   ]
  },
  {
   "cell_type": "code",
   "execution_count": 17,
   "id": "05dea5a8",
   "metadata": {},
   "outputs": [
    {
     "name": "stdout",
     "output_type": "stream",
     "text": [
      "0 1 2 3 4 5 6 7 8 9 "
     ]
    }
   ],
   "source": [
    "for i in range(10):\n",
    "    print(i,end= \" \")"
   ]
  },
  {
   "cell_type": "code",
   "execution_count": 18,
   "id": "55065d4d",
   "metadata": {},
   "outputs": [
    {
     "data": {
      "text/plain": [
       "5"
      ]
     },
     "execution_count": 18,
     "metadata": {},
     "output_type": "execute_result"
    }
   ],
   "source": [
    "len(list1)"
   ]
  },
  {
   "cell_type": "code",
   "execution_count": 21,
   "id": "ef3a46c2",
   "metadata": {},
   "outputs": [
    {
     "name": "stdout",
     "output_type": "stream",
     "text": [
      "0\n",
      "1\n",
      "2\n",
      "3\n"
     ]
    }
   ],
   "source": [
    "for i in range(len(list1)-1):\n",
    "    print(i)"
   ]
  },
  {
   "cell_type": "code",
   "execution_count": 27,
   "id": "d9f95416",
   "metadata": {},
   "outputs": [
    {
     "name": "stdout",
     "output_type": "stream",
     "text": [
      "Enter Integer3\n",
      "3 * 1 = 3\n",
      "3 * 2 = 6\n",
      "3 * 3 = 9\n",
      "3 * 4 = 12\n",
      "3 * 5 = 15\n",
      "3 * 6 = 18\n",
      "3 * 7 = 21\n",
      "3 * 8 = 24\n",
      "3 * 9 = 27\n",
      "3 * 10 = 30\n"
     ]
    }
   ],
   "source": [
    "number = int(input(\"Enter Integer\"))\n",
    "for count in range (1,11):\n",
    "    product = number* count\n",
    "    print(number, \"*\",count, \"=\", product)"
   ]
  },
  {
   "cell_type": "code",
   "execution_count": 37,
   "id": "12af4d85",
   "metadata": {},
   "outputs": [
    {
     "name": "stdout",
     "output_type": "stream",
     "text": [
      "[1, 4, 9, 16, 25]\n"
     ]
    }
   ],
   "source": [
    "list2 = [1,2,3,4,5]\n",
    "empty = []\n",
    "\n",
    "for i in list2:\n",
    "    x=i**2\n",
    "    empty.append(x)\n",
    "print(empty)"
   ]
  },
  {
   "cell_type": "code",
   "execution_count": null,
   "id": "5c9a8568",
   "metadata": {},
   "outputs": [],
   "source": [
    "emp_list= [1,4,9,16,20]"
   ]
  },
  {
   "cell_type": "code",
   "execution_count": 41,
   "id": "0cf3daef",
   "metadata": {},
   "outputs": [
    {
     "name": "stdout",
     "output_type": "stream",
     "text": [
      "50\n"
     ]
    }
   ],
   "source": [
    "emp_list= [1,4,9,16,20]\n",
    "sum = 0\n",
    "\n",
    "for i in emp_list:\n",
    "    sum=sum+i\n",
    "print(sum)"
   ]
  },
  {
   "cell_type": "code",
   "execution_count": 42,
   "id": "7eb74800",
   "metadata": {},
   "outputs": [],
   "source": [
    "colour = [\"Red\", \"Yellow\", \"Green\"]\n",
    "fruits = [\"Apples\", \"Mangoes\", \"Grapes\"]"
   ]
  },
  {
   "cell_type": "code",
   "execution_count": 46,
   "id": "b8ef42e3",
   "metadata": {},
   "outputs": [
    {
     "name": "stdout",
     "output_type": "stream",
     "text": [
      "Red-Apples\n",
      "Red-Mangoes\n",
      "Red-Grapes\n",
      "Yellow-Apples\n",
      "Yellow-Mangoes\n",
      "Yellow-Grapes\n",
      "Green-Apples\n",
      "Green-Mangoes\n",
      "Green-Grapes\n"
     ]
    }
   ],
   "source": [
    "for i in colour:\n",
    "    for j in fruits:\n",
    "        print(i+ \"-\" +j )"
   ]
  },
  {
   "cell_type": "code",
   "execution_count": 47,
   "id": "2395ba31",
   "metadata": {},
   "outputs": [],
   "source": [
    "toss = [\"win\",\"loss\"]\n",
    "bat  =[\"bat 1st\",\"bat 2nd\"]"
   ]
  },
  {
   "cell_type": "code",
   "execution_count": 48,
   "id": "2dc911f6",
   "metadata": {},
   "outputs": [
    {
     "name": "stdout",
     "output_type": "stream",
     "text": [
      "win-bat 1st\n",
      "win-bat 2nd\n",
      "loss-bat 1st\n",
      "loss-bat 2nd\n"
     ]
    }
   ],
   "source": [
    "for i in toss:\n",
    "    for j in bat:\n",
    "        print(i + \"-\" + j)"
   ]
  },
  {
   "cell_type": "code",
   "execution_count": 50,
   "id": "af814f28",
   "metadata": {},
   "outputs": [
    {
     "name": "stdout",
     "output_type": "stream",
     "text": [
      "Int 8\n",
      "* * * * * * * *  \n",
      "* * * * * * *  \n",
      "* * * * * *  \n",
      "* * * * *  \n",
      "* * * *  \n",
      "* * *  \n",
      "* *  \n",
      "*  \n"
     ]
    }
   ],
   "source": [
    "rows = int(input(\"Int \"))\n",
    "\n",
    "for i in range(1,rows+1):\n",
    "    for j in range(rows,i-1,-1):\n",
    "        print(\"*\",end = \" \")\n",
    "    print(\" \")\n",
    "    "
   ]
  },
  {
   "cell_type": "code",
   "execution_count": null,
   "id": "3d8dac67",
   "metadata": {},
   "outputs": [],
   "source": []
  },
  {
   "cell_type": "code",
   "execution_count": null,
   "id": "5e9677ec",
   "metadata": {},
   "outputs": [],
   "source": []
  },
  {
   "cell_type": "code",
   "execution_count": null,
   "id": "73f3423c",
   "metadata": {},
   "outputs": [],
   "source": []
  },
  {
   "cell_type": "code",
   "execution_count": null,
   "id": "45f5450f",
   "metadata": {},
   "outputs": [],
   "source": []
  },
  {
   "cell_type": "code",
   "execution_count": null,
   "id": "def8b020",
   "metadata": {},
   "outputs": [],
   "source": []
  }
 ],
 "metadata": {
  "kernelspec": {
   "display_name": "Python 3",
   "language": "python",
   "name": "python3"
  },
  "language_info": {
   "codemirror_mode": {
    "name": "ipython",
    "version": 3
   },
   "file_extension": ".py",
   "mimetype": "text/x-python",
   "name": "python",
   "nbconvert_exporter": "python",
   "pygments_lexer": "ipython3",
   "version": "3.8.8"
  }
 },
 "nbformat": 4,
 "nbformat_minor": 5
}
