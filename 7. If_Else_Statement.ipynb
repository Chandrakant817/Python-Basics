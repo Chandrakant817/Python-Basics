{
  "cells": [
    {
      "cell_type": "markdown",
      "id": "3d17997f",
      "metadata": {
        "id": "3d17997f"
      },
      "source": [
        "### Introduction\n",
        "\n",
        "While writing code in any language, you will have to control the flow (control flow) of your program/code. This is generally the case when there is decision making involved — you will want to execute a certain line of code if a condition is satisfied, and a different set of code in case it is not. In Python, you have the if, elif and the else statements for this purpose.\n",
        "\n",
        "\n",
        " We have water flowing through our dam in a controlled manner. We can then set conditions and based on these conditions we can allow more, less or the same amount of water flow through our dam. For example, if there is a heatwave and farmers need more water to keep their crops alive, we will increase the flow of water. Or else, if (elif) it is winter and demand for water is low, we will decrease the flow of water through our dam. Finally, if neither of those conditions are met (else), we will keep water flow at its normal level.\n",
        " \n",
        " \n",
        " <img src=\"https://c.tenor.com/Bl-NM4sfFUgAAAAC/dam-water-barrier.gif\"/>\n"
      ]
    },
    {
      "cell_type": "markdown",
      "id": "8cbeb7f5",
      "metadata": {
        "id": "8cbeb7f5"
      },
      "source": [
        "Alrighty then, let’s dive right in! And look at some demos and the syntax for the if/elif/else statements.\n",
        "\n",
        "<img src=\"https://media.giphy.com/media/l2Je1bFuOpkNpyqYM/giphy.gif \"/>"
      ]
    },
    {
      "cell_type": "markdown",
      "id": "2e8c4435",
      "metadata": {
        "id": "2e8c4435"
      },
      "source": [
        "<h2 style = \"color:Brown\"> Relational Operators</h2>\n",
        "\n",
        "Compares the values on either side of the operator and returns and boolean value as True or False."
      ]
    },
    {
      "cell_type": "code",
      "execution_count": null,
      "id": "1fe0ec05",
      "metadata": {
        "colab": {
          "base_uri": "https://localhost:8080/"
        },
        "id": "1fe0ec05",
        "outputId": "74054832-a015-46cd-8b02-84f5a75f0c41"
      },
      "outputs": [
        {
          "output_type": "execute_result",
          "data": {
            "text/plain": [
              "True"
            ]
          },
          "metadata": {},
          "execution_count": 1
        }
      ],
      "source": [
        "10 == 10"
      ]
    },
    {
      "cell_type": "markdown",
      "id": "94b34acb",
      "metadata": {
        "id": "94b34acb"
      },
      "source": [
        "\n",
        "\n",
        "' = ' is an assignment operator; it is used to assign value to a variable on the left.\n",
        "\n",
        "'==' is a relational operator; it is used for comparision of equality."
      ]
    },
    {
      "cell_type": "code",
      "execution_count": null,
      "id": "09772c6b",
      "metadata": {
        "colab": {
          "base_uri": "https://localhost:8080/"
        },
        "id": "09772c6b",
        "outputId": "f99111aa-7729-4615-9065-c78c9e53856e"
      },
      "outputs": [
        {
          "output_type": "execute_result",
          "data": {
            "text/plain": [
              "False"
            ]
          },
          "metadata": {},
          "execution_count": 2
        }
      ],
      "source": [
        "10 == 5 #Double equal to operator"
      ]
    },
    {
      "cell_type": "code",
      "execution_count": null,
      "id": "8ee8744e",
      "metadata": {
        "colab": {
          "base_uri": "https://localhost:8080/"
        },
        "id": "8ee8744e",
        "outputId": "25fc2e53-87e7-49ca-96ea-df600d43a2b3"
      },
      "outputs": [
        {
          "output_type": "execute_result",
          "data": {
            "text/plain": [
              "True"
            ]
          },
          "metadata": {},
          "execution_count": 3
        }
      ],
      "source": [
        "#### Not equal to operator\n",
        "\n",
        "10 != 5"
      ]
    },
    {
      "cell_type": "code",
      "execution_count": null,
      "id": "15c08f5f",
      "metadata": {
        "colab": {
          "base_uri": "https://localhost:8080/"
        },
        "id": "15c08f5f",
        "outputId": "3fca3d38-aa4a-4fe5-c2ab-d23960afa9e0"
      },
      "outputs": [
        {
          "output_type": "execute_result",
          "data": {
            "text/plain": [
              "True"
            ]
          },
          "metadata": {},
          "execution_count": 4
        }
      ],
      "source": [
        "10 > 5 # Greater than operator"
      ]
    },
    {
      "cell_type": "code",
      "execution_count": null,
      "id": "294b11c4",
      "metadata": {
        "colab": {
          "base_uri": "https://localhost:8080/"
        },
        "id": "294b11c4",
        "outputId": "bc0c8249-c392-490d-f0d1-5e88d46f7e35"
      },
      "outputs": [
        {
          "output_type": "execute_result",
          "data": {
            "text/plain": [
              "False"
            ]
          },
          "metadata": {},
          "execution_count": 5
        }
      ],
      "source": [
        "10 < 5 ##Less than operator"
      ]
    },
    {
      "cell_type": "markdown",
      "id": "010fa455",
      "metadata": {
        "id": "010fa455"
      },
      "source": [
        "### If"
      ]
    },
    {
      "cell_type": "markdown",
      "id": "fd2c2d04",
      "metadata": {
        "id": "fd2c2d04"
      },
      "source": [
        "Essentially, if the condition is true, then execute the indented statements. If the condition is not true, then skip the indented statements. Let’s have a look at the example below to get a better grasp of it all.\n",
        "\n",
        "<img src=\"https://www.thecrazyprogrammer.com/wp-content/uploads/2015/08/Python-if-statement.jpg?ezimgfmt=rs:227x250/rscb1/ng:webp/ngcb1 \"/>"
      ]
    },
    {
      "cell_type": "code",
      "execution_count": null,
      "id": "a1f3e5de",
      "metadata": {
        "id": "a1f3e5de"
      },
      "outputs": [],
      "source": [
        "if condition:\n",
        "       Indented Statement Block"
      ]
    },
    {
      "cell_type": "code",
      "source": [
        "num = 10"
      ],
      "metadata": {
        "id": "ecbmBmNk5mnR"
      },
      "id": "ecbmBmNk5mnR",
      "execution_count": null,
      "outputs": []
    },
    {
      "cell_type": "code",
      "execution_count": null,
      "id": "d5f869aa",
      "metadata": {
        "colab": {
          "base_uri": "https://localhost:8080/"
        },
        "id": "d5f869aa",
        "outputId": "4c7e1d75-183e-4a26-808b-4421b9d966f1"
      },
      "outputs": [
        {
          "output_type": "stream",
          "name": "stdout",
          "text": [
            "Hi\n"
          ]
        }
      ],
      "source": [
        "if num > 3 :\n",
        "    print(\"Hi\")\n"
      ]
    },
    {
      "cell_type": "code",
      "source": [
        "num = 2\n",
        "if num > 3:\n",
        "  print(\"Hi\")"
      ],
      "metadata": {
        "id": "QZX9DrYF519R"
      },
      "id": "QZX9DrYF519R",
      "execution_count": null,
      "outputs": []
    },
    {
      "cell_type": "code",
      "execution_count": null,
      "id": "36cf427d",
      "metadata": {
        "id": "36cf427d"
      },
      "outputs": [],
      "source": [
        "# Nothing is outputted because num > 10 is FALS\n",
        "if num > 10:\n",
        "    print(num)\n"
      ]
    },
    {
      "cell_type": "code",
      "execution_count": null,
      "id": "9814c433",
      "metadata": {
        "id": "9814c433"
      },
      "outputs": [],
      "source": [
        "num = 10"
      ]
    },
    {
      "cell_type": "code",
      "execution_count": null,
      "id": "e3e801ad",
      "metadata": {
        "id": "e3e801ad"
      },
      "outputs": [],
      "source": [
        "if num % 3 == 0:\n",
        "    print(\"Fizz\")"
      ]
    },
    {
      "cell_type": "code",
      "execution_count": null,
      "id": "8bfc5071",
      "metadata": {
        "colab": {
          "base_uri": "https://localhost:8080/"
        },
        "id": "8bfc5071",
        "outputId": "a61eef38-f93f-4006-c5fd-f23a185dcc82"
      },
      "outputs": [
        {
          "output_type": "stream",
          "name": "stdout",
          "text": [
            "Buzz\n"
          ]
        }
      ],
      "source": [
        "if num % 5 == 0:\n",
        "    print(\"Buzz\")"
      ]
    },
    {
      "cell_type": "code",
      "execution_count": null,
      "id": "0505a41f",
      "metadata": {
        "colab": {
          "base_uri": "https://localhost:8080/"
        },
        "id": "0505a41f",
        "outputId": "0b3a4f09-02b5-4363-b6be-6ecf1376bab9"
      },
      "outputs": [
        {
          "output_type": "stream",
          "name": "stdout",
          "text": [
            "x is smaller than y.\n"
          ]
        }
      ],
      "source": [
        "x = 9\n",
        "y = 10\n",
        "\n",
        "if x < y:\n",
        "    print(\"x is smaller than y.\")\n"
      ]
    },
    {
      "cell_type": "code",
      "execution_count": null,
      "id": "b713dc2c",
      "metadata": {
        "colab": {
          "base_uri": "https://localhost:8080/"
        },
        "id": "b713dc2c",
        "outputId": "5717655f-0cb2-4fc2-965a-2a26d8b31e50"
      },
      "outputs": [
        {
          "output_type": "execute_result",
          "data": {
            "text/plain": [
              "False"
            ]
          },
          "metadata": {},
          "execution_count": 28
        }
      ],
      "source": [
        "num = 18 ## All the conditions\n",
        "num > 0 and num  < 15"
      ]
    },
    {
      "cell_type": "code",
      "execution_count": null,
      "id": "cda708b4",
      "metadata": {
        "id": "cda708b4"
      },
      "outputs": [],
      "source": [
        "# both the conditions are true, so the num will be printed out\n",
        "if num > 0 and num  < 15:\n",
        "    print(num)"
      ]
    },
    {
      "cell_type": "markdown",
      "id": "31c88717",
      "metadata": {
        "id": "31c88717"
      },
      "source": [
        "Imagine we are checking into a flight online, and we see a box asking, ‘ How many kilograms does your suitcase weight?’.\n",
        "\n",
        "\n",
        "The airline is setting a limit on our check-in luggage. That limit being any weight over 23kg."
      ]
    },
    {
      "cell_type": "code",
      "execution_count": null,
      "id": "0f6a8ef2",
      "metadata": {
        "scrolled": true,
        "colab": {
          "base_uri": "https://localhost:8080/"
        },
        "id": "0f6a8ef2",
        "outputId": "c803b31f-7d36-4621-e754-74659aba1a89"
      },
      "outputs": [
        {
          "output_type": "stream",
          "name": "stdout",
          "text": [
            "Enter the weight:25\n",
            "There is a Rs 2500 charge for luggage that heavy\n",
            "Thank you for using this service\n"
          ]
        }
      ],
      "source": [
        "weight = int(input(\"Enter the weight:\"))\n",
        "\n",
        "if weight >23:\n",
        "    print('There is a Rs 2500 charge for luggage that heavy')\n",
        "    print('Thank you for using this service')\n",
        "\n"
      ]
    },
    {
      "cell_type": "code",
      "execution_count": null,
      "id": "83e90389",
      "metadata": {
        "id": "83e90389"
      },
      "outputs": [],
      "source": [
        "#if weight > 23:         ##(don’t forget the colon to end the condition!!)."
      ]
    },
    {
      "cell_type": "markdown",
      "id": "b00277d3",
      "metadata": {
        "id": "b00277d3"
      },
      "source": [
        "- Our statement is saying, if the weight is above 23kg then print that it is too heavy and thanking you for using the service.\n",
        "- If we input an integer (weight) that is equal or less than 23kg then our if statement block is ignored and we would continue with our online check-in.\n",
        "\n"
      ]
    },
    {
      "cell_type": "markdown",
      "id": "a3fdb04b",
      "metadata": {
        "id": "a3fdb04b"
      },
      "source": [
        "### If/Else\n",
        "\n",
        "Sometimes we want a certain statement to be executed when a given condition is met, and another statement to be executed if the condition is not met. That can be obtained with if/else statements.\n",
        "\n",
        "\n",
        "<img src=\"https://uploads-ssl.webflow.com/6184b461a39ff1011f8c0582/620239fdd8763fe2a551f490_If-else%20Flowchart.png \"/>"
      ]
    },
    {
      "cell_type": "code",
      "execution_count": null,
      "id": "55e64169",
      "metadata": {
        "id": "55e64169"
      },
      "outputs": [],
      "source": [
        "if condition:\n",
        "       Indented Statement Block For True Condition\n",
        "else:\n",
        "       Indented Statement Block For False Condition\n"
      ]
    },
    {
      "cell_type": "markdown",
      "id": "bdb6738c",
      "metadata": {
        "id": "bdb6738c"
      },
      "source": [
        "These statement blocks can have any number of statements, and can include almost any kind of statement. Let’s build upon our airline example above.\n",
        "\n"
      ]
    },
    {
      "cell_type": "code",
      "execution_count": null,
      "id": "302bfefd",
      "metadata": {
        "colab": {
          "base_uri": "https://localhost:8080/"
        },
        "id": "302bfefd",
        "outputId": "74c28b0e-21fd-4005-ba09-3b03a78d0d31"
      },
      "outputs": [
        {
          "output_type": "stream",
          "name": "stdout",
          "text": [
            "Enter your luggage weight: 21\n",
            "That weight falls within our limits\n",
            "Thank you for using this service\n"
          ]
        }
      ],
      "source": [
        "weight = int(input(\"Enter your luggage weight: \"))\n",
        "\n",
        "if weight >23:\n",
        "    print('There is a Rs 2500 charge for luggage that heavy')\n",
        "    print('But it is a reasonable fee!')\n",
        "else:\n",
        "      print('That weight falls within our limits')\n",
        "      print('Thank you for using this service')"
      ]
    },
    {
      "cell_type": "markdown",
      "id": "31fa1144",
      "metadata": {
        "id": "31fa1144"
      },
      "source": [
        "Note that now there are two indented blocks. If the if condition is met, the else part is never executed. If the if condition is not met, the else condition will automatically be executed. In an if-else statement exactly one of two possible indented blocks is executed."
      ]
    },
    {
      "cell_type": "code",
      "execution_count": null,
      "id": "a52b5467",
      "metadata": {
        "colab": {
          "base_uri": "https://localhost:8080/"
        },
        "id": "a52b5467",
        "outputId": "c4ee7260-194b-4dd0-8ce9-ba6ad5163f37"
      },
      "outputs": [
        {
          "output_type": "stream",
          "name": "stdout",
          "text": [
            "number is not greater than 3\n"
          ]
        }
      ],
      "source": [
        "\"\"\"We will execute what is inside the else statement\n",
        "because num is not greater than 3\n",
        "\"\"\"\n",
        "num = 1\n",
        "if num > 3 :\n",
        "    print(\"Hi\")\n",
        "else: \n",
        "    print(\"number is not greater than 3\")"
      ]
    },
    {
      "cell_type": "code",
      "execution_count": null,
      "id": "492b68be",
      "metadata": {
        "colab": {
          "base_uri": "https://localhost:8080/"
        },
        "id": "492b68be",
        "outputId": "892afc97-e381-4306-d2d7-d59f8cf4f1ac"
      },
      "outputs": [
        {
          "output_type": "stream",
          "name": "stdout",
          "text": [
            "Hi\n"
          ]
        }
      ],
      "source": [
        "\"\"\"We will execute what is inside the if statement because num > 4\"\"\"\n",
        "num = 4\n",
        "if num > 3 :\n",
        "    print(\"Hi\")\n",
        "else: \n",
        "    print(\"number is not greater than 3\")"
      ]
    },
    {
      "cell_type": "code",
      "execution_count": null,
      "id": "3ea21bc6",
      "metadata": {
        "colab": {
          "base_uri": "https://localhost:8080/"
        },
        "id": "3ea21bc6",
        "outputId": "d73956fa-788d-4fde-fd9a-69449a74ef3e"
      },
      "outputs": [
        {
          "output_type": "stream",
          "name": "stdout",
          "text": [
            "x is smaller than y.\n"
          ]
        }
      ],
      "source": [
        "x = 3\n",
        "y = 10\n",
        "\n",
        "if x > y:\n",
        "    print(\"x is greater than y.\")\n",
        "else:\n",
        "    print(\"x is smaller than y.\")"
      ]
    },
    {
      "cell_type": "code",
      "execution_count": null,
      "id": "e415d0ae",
      "metadata": {
        "colab": {
          "base_uri": "https://localhost:8080/"
        },
        "id": "e415d0ae",
        "outputId": "af63625d-42d3-46af-cc08-7984f39adedc"
      },
      "outputs": [
        {
          "output_type": "stream",
          "name": "stdout",
          "text": [
            "20\n",
            "Your integer is even\n"
          ]
        }
      ],
      "source": [
        "num = int(input())\n",
        "if num % 2 == 0:\n",
        "    print(\"Your integer is even\")\n",
        "else: \n",
        "    print(\"Your integer is odd\")"
      ]
    },
    {
      "cell_type": "markdown",
      "id": "69a54810",
      "metadata": {
        "id": "69a54810"
      },
      "source": [
        "### if/Elif/Else\n",
        "Sometimes we want to set conditions for multiple situations. This can be done with if/elif/else statements. Let’s check out the syntax for an if/elif/else statement.\n",
        "\n",
        "Similar to the else, the elif statement is optional. However, unlike else, for which there can be at most one statement, there can be an arbitrary number of elif statements following an if"
      ]
    },
    {
      "cell_type": "code",
      "execution_count": null,
      "id": "d3996e5a",
      "metadata": {
        "id": "d3996e5a"
      },
      "outputs": [],
      "source": [
        "if condition 1:\n",
        "            Indented Statement Block For First True Condition 1\n",
        "elif condition 2:\n",
        "            Indented Statement Block For First True Condition 2\n",
        "elif condition 3:\n",
        "            Indented Statement Block For First True Condition 3\n",
        "elif condition 4:\n",
        "            Indented Statement Block For First True Condition 4\n",
        "else:\n",
        "            Indented Statement Block For Each Condition False"
      ]
    },
    {
      "cell_type": "markdown",
      "id": "f7ee0826",
      "metadata": {
        "id": "f7ee0826"
      },
      "source": [
        "<img src=\"https://media.giphy.com/media/xU9TT471DTGJq/giphy.gif \"/>"
      ]
    },
    {
      "cell_type": "markdown",
      "id": "1b08450b",
      "metadata": {
        "id": "1b08450b"
      },
      "source": [
        "#### Some general rules to follow and learn:\n",
        "\n",
        "- The first condition is checked with an if-statement\n",
        "- All following conditions are checked by an elif statement\n",
        "- If none of the previous conditions has been met, the else statement is executed.\n",
        "- Note that the conditions are checked in the given order.\n",
        "- Once a condition is met, the later ones will not be verified.\n",
        "- For this reason, it is important that the different conditions do not overlap. If you think condition 3 is met, but you notice that the block from condition 2 is executed, the reason is probably that both conditions 2 and 3 are met.\n",
        "- Elif and else statements are optional, but the first statement has to be an if-statement.\n",
        "- The if, each elif, and the final else line are all aligned. There can be any number of elif lines, each followed by an indented block.\n",
        "- If all three are present, exactly one of the indented blocks is executed. It is the one corresponding to the first True condition.\n",
        "\n",
        "\n",
        "<img src=\"https://cdn.programiz.com/sites/tutorial2program/files/Python_if_elif_else_statement.jpg \"/>"
      ]
    },
    {
      "cell_type": "code",
      "execution_count": null,
      "id": "c2969a3f",
      "metadata": {
        "colab": {
          "base_uri": "https://localhost:8080/"
        },
        "id": "c2969a3f",
        "outputId": "27d3989b-5521-4547-deb7-e550188ab510"
      },
      "outputs": [
        {
          "output_type": "stream",
          "name": "stdout",
          "text": [
            "Enter your luggage weight: 23\n",
            "That is just on the edge\n",
            "We love precision.\n"
          ]
        }
      ],
      "source": [
        "weight = int(input(\"Enter your luggage weight: \"))\n",
        "if weight > 23:\n",
        "        print('There is a Rs 2500 charge for luggage that heavy')\n",
        "        print( 'But it is a reasonable fee!')\n",
        " \n",
        "elif weight < 23:\n",
        "        print('That is ok')\n",
        "        print('Thank you for using this service')\n",
        " \n",
        "else:\n",
        "        print('That is just on the edge')\n",
        "        print('We love precision.')"
      ]
    },
    {
      "cell_type": "markdown",
      "id": "c126f442",
      "metadata": {
        "id": "c126f442"
      },
      "source": [
        "The above example includes if/elif/else conditions. If the weight is above 23kg, it will say you have to pay a surcharge. Elif the weight is below 23kg then you are within the limit. Else neither of these conditions return true, and it is exactly 23kg. The online service will then say you are just on the edge and they love precision.\n",
        "\n"
      ]
    },
    {
      "cell_type": "code",
      "execution_count": null,
      "id": "34d3b5bf",
      "metadata": {
        "colab": {
          "base_uri": "https://localhost:8080/"
        },
        "id": "34d3b5bf",
        "outputId": "a7910e2e-ce23-4c17-9c34-6924e54e8dc1"
      },
      "outputs": [
        {
          "output_type": "stream",
          "name": "stdout",
          "text": [
            "Enter your num: 45\n",
            "Catchall condition\n"
          ]
        }
      ],
      "source": [
        "num = int(input(\"Enter your num: \"))\n",
        "if num > 50:\n",
        "    print('num is larger than 50')\n",
        "elif num == 21:\n",
        "    print('num = 21')\n",
        "else:\n",
        "    print('Catchall condition')"
      ]
    },
    {
      "cell_type": "code",
      "execution_count": null,
      "id": "941cfa4b",
      "metadata": {
        "id": "941cfa4b"
      },
      "outputs": [],
      "source": [
        "city = input(\"Enter your city: \")\n",
        "\n",
        "if city == 'New Delhi':\n",
        "  print('Welcome to the Indian Capital')\n",
        "elif city == 'Mumbai':\n",
        "  print('Welcome to the Financial Capital of India!')\n",
        "else:\n",
        "  print('Where are you?')"
      ]
    },
    {
      "cell_type": "code",
      "execution_count": null,
      "id": "a8054a23",
      "metadata": {
        "colab": {
          "base_uri": "https://localhost:8080/"
        },
        "id": "a8054a23",
        "outputId": "e2b10330-6cac-4584-c5e1-f3c6315eeffc"
      },
      "outputs": [
        {
          "output_type": "stream",
          "name": "stdout",
          "text": [
            "Enter your age: 10\n",
            "The price of your ticket is: 50\n"
          ]
        }
      ],
      "source": [
        "age = int(input(\"Enter your age: \"))\n",
        "if age < 12:\n",
        "    price = 50 \n",
        "elif age > 60:\n",
        "    price = 80\n",
        "else:\n",
        "    price = 100\n",
        "print(\"The price of your ticket is: \"+ str(price))"
      ]
    },
    {
      "cell_type": "code",
      "execution_count": null,
      "id": "215abfda",
      "metadata": {
        "colab": {
          "base_uri": "https://localhost:8080/"
        },
        "id": "215abfda",
        "outputId": "af320243-81c4-4f1e-cfa3-130adf094a42"
      },
      "outputs": [
        {
          "output_type": "execute_result",
          "data": {
            "text/plain": [
              "[6, 4]"
            ]
          },
          "metadata": {},
          "execution_count": 47
        }
      ],
      "source": [
        "a= [1,2,3,4,5,6,7]\n",
        "a[5:2:-2]"
      ]
    },
    {
      "cell_type": "code",
      "execution_count": null,
      "id": "0842a0b0",
      "metadata": {
        "id": "0842a0b0",
        "outputId": "cc65919f-17b9-4086-90b3-9178626f0243"
      },
      "outputs": [
        {
          "data": {
            "text/plain": [
              "[7, 5, 3, 1]"
            ]
          },
          "execution_count": 53,
          "metadata": {},
          "output_type": "execute_result"
        }
      ],
      "source": [
        "a[::-2]"
      ]
    },
    {
      "cell_type": "code",
      "execution_count": null,
      "id": "48ae55aa",
      "metadata": {
        "id": "48ae55aa"
      },
      "outputs": [],
      "source": [
        ""
      ]
    }
  ],
  "metadata": {
    "kernelspec": {
      "display_name": "Python 3 (ipykernel)",
      "language": "python",
      "name": "python3"
    },
    "language_info": {
      "codemirror_mode": {
        "name": "ipython",
        "version": 3
      },
      "file_extension": ".py",
      "mimetype": "text/x-python",
      "name": "python",
      "nbconvert_exporter": "python",
      "pygments_lexer": "ipython3",
      "version": "3.9.7"
    },
    "colab": {
      "name": "If Else Statement.ipynb",
      "provenance": []
    }
  },
  "nbformat": 4,
  "nbformat_minor": 5
}
