{
 "cells": [
  {
   "cell_type": "code",
   "execution_count": 3,
   "id": "6f03c5c1",
   "metadata": {},
   "outputs": [],
   "source": [
    "def square(x):\n",
    "    return x*x"
   ]
  },
  {
   "cell_type": "code",
   "execution_count": 4,
   "id": "54c3e1f3",
   "metadata": {},
   "outputs": [
    {
     "data": {
      "text/plain": [
       "16"
      ]
     },
     "execution_count": 4,
     "metadata": {},
     "output_type": "execute_result"
    }
   ],
   "source": [
    "square(4)"
   ]
  },
  {
   "cell_type": "code",
   "execution_count": 5,
   "id": "71c3365d",
   "metadata": {},
   "outputs": [],
   "source": [
    "def sums(num1,num2):\n",
    "    return num1+num2\n"
   ]
  },
  {
   "cell_type": "code",
   "execution_count": 6,
   "id": "f72ef2b5",
   "metadata": {},
   "outputs": [
    {
     "data": {
      "text/plain": [
       "9"
      ]
     },
     "execution_count": 6,
     "metadata": {},
     "output_type": "execute_result"
    }
   ],
   "source": [
    "sums(4,5)"
   ]
  },
  {
   "cell_type": "code",
   "execution_count": 7,
   "id": "5f3705c1",
   "metadata": {},
   "outputs": [],
   "source": [
    "def subtract(num1,num2):\n",
    "    return num1-num2\n"
   ]
  },
  {
   "cell_type": "code",
   "execution_count": 8,
   "id": "30092faa",
   "metadata": {},
   "outputs": [
    {
     "data": {
      "text/plain": [
       "5"
      ]
     },
     "execution_count": 8,
     "metadata": {},
     "output_type": "execute_result"
    }
   ],
   "source": [
    "subtract(9,4)"
   ]
  },
  {
   "cell_type": "code",
   "execution_count": 9,
   "id": "4a998eca",
   "metadata": {},
   "outputs": [],
   "source": [
    "def mul(num1,num2):\n",
    "    return num1*num2\n"
   ]
  },
  {
   "cell_type": "code",
   "execution_count": 10,
   "id": "92dc0ed7",
   "metadata": {},
   "outputs": [
    {
     "data": {
      "text/plain": [
       "18"
      ]
     },
     "execution_count": 10,
     "metadata": {},
     "output_type": "execute_result"
    }
   ],
   "source": [
    "mul(3,6)"
   ]
  },
  {
   "cell_type": "code",
   "execution_count": 11,
   "id": "c39128e4",
   "metadata": {},
   "outputs": [],
   "source": [
    "def div(num1,num2):\n",
    "    return num1/num2\n"
   ]
  },
  {
   "cell_type": "code",
   "execution_count": 13,
   "id": "68ba8367",
   "metadata": {},
   "outputs": [
    {
     "data": {
      "text/plain": [
       "1.4"
      ]
     },
     "execution_count": 13,
     "metadata": {},
     "output_type": "execute_result"
    }
   ],
   "source": [
    "div(7,5)"
   ]
  },
  {
   "cell_type": "code",
   "execution_count": 19,
   "id": "476e125f",
   "metadata": {},
   "outputs": [],
   "source": [
    "def greet(name,msg = \"Thank you for coming\"):\n",
    "    print(\"Hello\",name + \",\" + msg)"
   ]
  },
  {
   "cell_type": "code",
   "execution_count": 20,
   "id": "9944b5c1",
   "metadata": {},
   "outputs": [
    {
     "name": "stdout",
     "output_type": "stream",
     "text": [
      "Hello Chandra,Thank you for coming\n"
     ]
    }
   ],
   "source": [
    "greet(\"Chandra\")"
   ]
  },
  {
   "cell_type": "code",
   "execution_count": null,
   "id": "f25d12d9",
   "metadata": {},
   "outputs": [],
   "source": []
  },
  {
   "cell_type": "code",
   "execution_count": null,
   "id": "bf2a79fc",
   "metadata": {},
   "outputs": [],
   "source": []
  }
 ],
 "metadata": {
  "kernelspec": {
   "display_name": "Python 3",
   "language": "python",
   "name": "python3"
  },
  "language_info": {
   "codemirror_mode": {
    "name": "ipython",
    "version": 3
   },
   "file_extension": ".py",
   "mimetype": "text/x-python",
   "name": "python",
   "nbconvert_exporter": "python",
   "pygments_lexer": "ipython3",
   "version": "3.8.8"
  }
 },
 "nbformat": 4,
 "nbformat_minor": 5
}
