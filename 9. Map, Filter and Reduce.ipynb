{
 "cells": [
  {
   "cell_type": "code",
   "execution_count": 1,
   "id": "dd75e167",
   "metadata": {},
   "outputs": [],
   "source": [
    "import mymath as mm"
   ]
  },
  {
   "cell_type": "code",
   "execution_count": 3,
   "id": "b0b9dab9",
   "metadata": {},
   "outputs": [],
   "source": [
    "from mymath import*"
   ]
  },
  {
   "cell_type": "code",
   "execution_count": 4,
   "id": "7a5805ad",
   "metadata": {},
   "outputs": [
    {
     "data": {
      "text/plain": [
       "6"
      ]
     },
     "execution_count": 4,
     "metadata": {},
     "output_type": "execute_result"
    }
   ],
   "source": [
    "addi(2,4)"
   ]
  },
  {
   "cell_type": "code",
   "execution_count": 6,
   "id": "2209cd40",
   "metadata": {},
   "outputs": [
    {
     "data": {
      "text/plain": [
       "-2"
      ]
     },
     "execution_count": 6,
     "metadata": {},
     "output_type": "execute_result"
    }
   ],
   "source": [
    "sums(5,7)"
   ]
  },
  {
   "cell_type": "code",
   "execution_count": 7,
   "id": "2f7622cd",
   "metadata": {},
   "outputs": [
    {
     "ename": "NameError",
     "evalue": "name 'mymath' is not defined",
     "output_type": "error",
     "traceback": [
      "\u001b[1;31m---------------------------------------------------------------------------\u001b[0m",
      "\u001b[1;31mNameError\u001b[0m                                 Traceback (most recent call last)",
      "\u001b[1;32m<ipython-input-7-c4ec929aa204>\u001b[0m in \u001b[0;36m<module>\u001b[1;34m\u001b[0m\n\u001b[1;32m----> 1\u001b[1;33m \u001b[0mprint\u001b[0m\u001b[1;33m(\u001b[0m\u001b[0mdir\u001b[0m\u001b[1;33m(\u001b[0m\u001b[0mmymath\u001b[0m\u001b[1;33m)\u001b[0m\u001b[1;33m)\u001b[0m\u001b[1;33m\u001b[0m\u001b[1;33m\u001b[0m\u001b[0m\n\u001b[0m",
      "\u001b[1;31mNameError\u001b[0m: name 'mymath' is not defined"
     ]
    }
   ],
   "source": [
    "print(dir(mymath))"
   ]
  },
  {
   "cell_type": "code",
   "execution_count": 9,
   "id": "28acf476",
   "metadata": {},
   "outputs": [
    {
     "name": "stdout",
     "output_type": "stream",
     "text": [
      "Requirement already satisfied: mymath in c:\\programdata\\anaconda3\\lib\\site-packages (1.0.1)\n",
      "Note: you may need to restart the kernel to use updated packages.\n"
     ]
    }
   ],
   "source": [
    "pip install mymath"
   ]
  },
  {
   "cell_type": "code",
   "execution_count": 10,
   "id": "f226eb56",
   "metadata": {},
   "outputs": [
    {
     "name": "stdout",
     "output_type": "stream",
     "text": [
      "Requirement already satisfied: mymath in c:\\programdata\\anaconda3\\lib\\site-packages (1.0.1)\n",
      "Note: you may need to restart the kernel to use updated packages.\n"
     ]
    },
    {
     "name": "stderr",
     "output_type": "stream",
     "text": [
      "ERROR: Could not find a version that satisfies the requirement as\n",
      "ERROR: No matching distribution found for as\n"
     ]
    }
   ],
   "source": [
    "pip install mymath as mm"
   ]
  },
  {
   "cell_type": "code",
   "execution_count": 12,
   "id": "08fc8873",
   "metadata": {},
   "outputs": [
    {
     "name": "stdout",
     "output_type": "stream",
     "text": [
      "['__builtins__', '__cached__', '__doc__', '__file__', '__loader__', '__name__', '__package__', '__spec__', 'addi', 'div', 'factorial', 'mul', 'sums']\n"
     ]
    }
   ],
   "source": [
    "print(dir(mm))"
   ]
  },
  {
   "cell_type": "code",
   "execution_count": 13,
   "id": "cc438e21",
   "metadata": {},
   "outputs": [],
   "source": [
    "list1 = [1,2,3,4]"
   ]
  },
  {
   "cell_type": "code",
   "execution_count": 14,
   "id": "36948539",
   "metadata": {},
   "outputs": [],
   "source": [
    "list1 = [1,2,3,4]\n",
    "c=lambda x:x**2\n",
    "list(map(c,list1))"
   ]
  },
  {
   "cell_type": "code",
   "execution_count": 15,
   "id": "3911f7c0",
   "metadata": {},
   "outputs": [
    {
     "data": {
      "text/plain": [
       "[1, 4, 9, 16]"
      ]
     },
     "execution_count": 15,
     "metadata": {},
     "output_type": "execute_result"
    }
   ],
   "source": [
    "list(map(c,list1))"
   ]
  },
  {
   "cell_type": "code",
   "execution_count": 16,
   "id": "f8442e29",
   "metadata": {},
   "outputs": [],
   "source": [
    "list1 = [2,4,5]\n",
    "c = list(map(lambda x : x**2,list1 )) "
   ]
  },
  {
   "cell_type": "code",
   "execution_count": 17,
   "id": "071b6677",
   "metadata": {},
   "outputs": [
    {
     "data": {
      "text/plain": [
       "[4, 16, 25]"
      ]
     },
     "execution_count": 17,
     "metadata": {},
     "output_type": "execute_result"
    }
   ],
   "source": [
    "c"
   ]
  },
  {
   "cell_type": "code",
   "execution_count": 18,
   "id": "43769280",
   "metadata": {},
   "outputs": [],
   "source": [
    "num=[1,5,9,15]"
   ]
  },
  {
   "cell_type": "code",
   "execution_count": 25,
   "id": "4da70646",
   "metadata": {},
   "outputs": [],
   "source": [
    "output = list(map(lambda x : x+x,num))"
   ]
  },
  {
   "cell_type": "code",
   "execution_count": 26,
   "id": "49df6a86",
   "metadata": {},
   "outputs": [
    {
     "data": {
      "text/plain": [
       "[2, 10, 18, 30]"
      ]
     },
     "execution_count": 26,
     "metadata": {},
     "output_type": "execute_result"
    }
   ],
   "source": [
    "output"
   ]
  },
  {
   "cell_type": "code",
   "execution_count": 27,
   "id": "acf383fa",
   "metadata": {},
   "outputs": [],
   "source": [
    "list3 = [1,2,5,6,89,45,67,87]"
   ]
  },
  {
   "cell_type": "code",
   "execution_count": 33,
   "id": "0a107ba0",
   "metadata": {},
   "outputs": [],
   "source": [
    "result1=list(filter(lambda x:x>6 ,list3))"
   ]
  },
  {
   "cell_type": "code",
   "execution_count": 34,
   "id": "a34e3120",
   "metadata": {},
   "outputs": [
    {
     "data": {
      "text/plain": [
       "[89, 45, 67, 87]"
      ]
     },
     "execution_count": 34,
     "metadata": {},
     "output_type": "execute_result"
    }
   ],
   "source": [
    "result1"
   ]
  },
  {
   "cell_type": "code",
   "execution_count": 35,
   "id": "ce056951",
   "metadata": {},
   "outputs": [],
   "source": [
    "result2=list(filter(lambda x:x%2!=0 ,list3))"
   ]
  },
  {
   "cell_type": "code",
   "execution_count": 36,
   "id": "90783e5a",
   "metadata": {},
   "outputs": [
    {
     "data": {
      "text/plain": [
       "[1, 5, 89, 45, 67, 87]"
      ]
     },
     "execution_count": 36,
     "metadata": {},
     "output_type": "execute_result"
    }
   ],
   "source": [
    "result2"
   ]
  },
  {
   "cell_type": "code",
   "execution_count": 41,
   "id": "28568278",
   "metadata": {},
   "outputs": [],
   "source": [
    "result3=list(filter(lambda x:x%3==0 ,list3))"
   ]
  },
  {
   "cell_type": "code",
   "execution_count": 42,
   "id": "a0762b1f",
   "metadata": {},
   "outputs": [
    {
     "data": {
      "text/plain": [
       "[6, 45, 87]"
      ]
     },
     "execution_count": 42,
     "metadata": {},
     "output_type": "execute_result"
    }
   ],
   "source": [
    "result3"
   ]
  },
  {
   "cell_type": "code",
   "execution_count": 43,
   "id": "c7ec3cd1",
   "metadata": {},
   "outputs": [],
   "source": [
    "marks = [40,42,45,45,47]"
   ]
  },
  {
   "cell_type": "code",
   "execution_count": 45,
   "id": "730352e7",
   "metadata": {},
   "outputs": [],
   "source": [
    "from functools import reduce"
   ]
  },
  {
   "cell_type": "code",
   "execution_count": 48,
   "id": "eaa8df43",
   "metadata": {},
   "outputs": [],
   "source": [
    "total = reduce(lambda a,b : a*b,marks)"
   ]
  },
  {
   "cell_type": "code",
   "execution_count": 47,
   "id": "206bc9ed",
   "metadata": {},
   "outputs": [
    {
     "data": {
      "text/plain": [
       "219"
      ]
     },
     "execution_count": 47,
     "metadata": {},
     "output_type": "execute_result"
    }
   ],
   "source": [
    "total"
   ]
  },
  {
   "cell_type": "code",
   "execution_count": null,
   "id": "54c916c6",
   "metadata": {},
   "outputs": [],
   "source": []
  }
 ],
 "metadata": {
  "kernelspec": {
   "display_name": "Python 3",
   "language": "python",
   "name": "python3"
  },
  "language_info": {
   "codemirror_mode": {
    "name": "ipython",
    "version": 3
   },
   "file_extension": ".py",
   "mimetype": "text/x-python",
   "name": "python",
   "nbconvert_exporter": "python",
   "pygments_lexer": "ipython3",
   "version": "3.8.8"
  }
 },
 "nbformat": 4,
 "nbformat_minor": 5
}
