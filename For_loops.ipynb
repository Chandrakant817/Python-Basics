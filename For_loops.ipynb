{
  "cells": [
    {
      "cell_type": "code",
      "execution_count": null,
      "id": "cabae3af",
      "metadata": {
        "id": "cabae3af"
      },
      "outputs": [],
      "source": [
        "stuff = ['hello', 'hi', 'how are you doing', 'im fine', 'how about you']"
      ]
    },
    {
      "cell_type": "code",
      "execution_count": null,
      "id": "330af700",
      "metadata": {
        "id": "330af700",
        "outputId": "8e022af4-297c-4898-93a7-4bb7d9f6a1a8"
      },
      "outputs": [
        {
          "name": "stdout",
          "output_type": "stream",
          "text": [
            "hello\n",
            "hi\n",
            "how are you doing\n",
            "im fine\n",
            "how about you\n"
          ]
        }
      ],
      "source": [
        "print(stuff[0])\n",
        "print(stuff[1])\n",
        "print(stuff[2])\n",
        "print(stuff[3])\n",
        "print(stuff[4])"
      ]
    },
    {
      "cell_type": "code",
      "execution_count": null,
      "id": "00a6fc40",
      "metadata": {
        "id": "00a6fc40",
        "outputId": "825c2133-d5d9-47a6-a0f3-0120407a04b1"
      },
      "outputs": [
        {
          "name": "stdout",
          "output_type": "stream",
          "text": [
            "hello\n",
            "hi\n",
            "how are you doing\n",
            "im fine\n",
            "how about you\n"
          ]
        }
      ],
      "source": [
        "for thing in stuff:\n",
        "  print(thing)"
      ]
    },
    {
      "cell_type": "code",
      "execution_count": null,
      "id": "f715c5a2",
      "metadata": {
        "id": "f715c5a2"
      },
      "outputs": [],
      "source": [
        "list1 = [1,2,3,4,5,6,7,8,9,10]"
      ]
    },
    {
      "cell_type": "code",
      "execution_count": null,
      "id": "9e1a227c",
      "metadata": {
        "id": "9e1a227c",
        "outputId": "aa314c86-474a-4170-be83-6ce096984d59"
      },
      "outputs": [
        {
          "name": "stdout",
          "output_type": "stream",
          "text": [
            "1\n",
            "2\n",
            "3\n",
            "4\n",
            "5\n",
            "6\n",
            "7\n",
            "8\n",
            "9\n",
            "10\n"
          ]
        }
      ],
      "source": [
        "for num in list1:\n",
        "    print(num)"
      ]
    },
    {
      "cell_type": "code",
      "execution_count": null,
      "id": "745f4d5c",
      "metadata": {
        "id": "745f4d5c",
        "outputId": "f6e0b16c-deaf-471a-ba05-ed2f42edf8f7"
      },
      "outputs": [
        {
          "name": "stdout",
          "output_type": "stream",
          "text": [
            "odd\n",
            "2\n",
            "odd\n",
            "4\n",
            "odd\n",
            "6\n",
            "odd\n",
            "8\n",
            "odd\n",
            "10\n"
          ]
        }
      ],
      "source": [
        "for num in list1:\n",
        "    if num % 2== 0:\n",
        "        print(num)\n",
        "    else:\n",
        "        print('odd')\n",
        "        "
      ]
    },
    {
      "cell_type": "code",
      "execution_count": null,
      "id": "d499bf75",
      "metadata": {
        "id": "d499bf75",
        "outputId": "8ec6cd0b-8e9c-4ac4-8f59-0316c943898a"
      },
      "outputs": [
        {
          "name": "stdout",
          "output_type": "stream",
          "text": [
            "55\n"
          ]
        }
      ],
      "source": [
        "list_sum = 0\n",
        "for num in list1:\n",
        "    list_sum+= num\n",
        "    \n",
        "print(list_sum)"
      ]
    },
    {
      "cell_type": "code",
      "execution_count": null,
      "id": "5f9e23d8",
      "metadata": {
        "id": "5f9e23d8",
        "outputId": "53078c8a-aab0-429c-ce34-b1a51503a14d"
      },
      "outputs": [
        {
          "name": "stdout",
          "output_type": "stream",
          "text": [
            "1\n",
            "2\n",
            "3\n"
          ]
        }
      ],
      "source": [
        "for letters in [1,2,3]:\n",
        "    print(letters)"
      ]
    },
    {
      "cell_type": "code",
      "execution_count": null,
      "id": "870eca09",
      "metadata": {
        "id": "870eca09",
        "outputId": "fbbf7fb5-f5ee-4c05-aca5-2309fe3381c5"
      },
      "outputs": [
        {
          "name": "stdout",
          "output_type": "stream",
          "text": [
            "1\n",
            "2\n",
            "4\n"
          ]
        }
      ],
      "source": [
        "for letters in (1,2,4):\n",
        "    print(letters)"
      ]
    },
    {
      "cell_type": "code",
      "execution_count": null,
      "id": "89b282ad",
      "metadata": {
        "id": "89b282ad"
      },
      "outputs": [],
      "source": [
        "\n",
        "d = {'k1':1,'k2':2,'k3':3}"
      ]
    },
    {
      "cell_type": "code",
      "execution_count": null,
      "id": "19efda31",
      "metadata": {
        "id": "19efda31",
        "outputId": "86ff7812-5623-4785-dcae-8bf962417086"
      },
      "outputs": [
        {
          "name": "stdout",
          "output_type": "stream",
          "text": [
            "k1\n",
            "k2\n",
            "k3\n"
          ]
        }
      ],
      "source": [
        "for items in d:\n",
        "    print(items)"
      ]
    },
    {
      "cell_type": "code",
      "execution_count": null,
      "id": "cf536dfc",
      "metadata": {
        "id": "cf536dfc",
        "outputId": "07f7dec5-8a0f-4c2e-a9fb-51971a1cf3cc"
      },
      "outputs": [
        {
          "name": "stdout",
          "output_type": "stream",
          "text": [
            "1\n",
            "2\n",
            "3\n"
          ]
        }
      ],
      "source": [
        "for keys, value in d:\n",
        "    print(value)"
      ]
    },
    {
      "cell_type": "code",
      "execution_count": null,
      "id": "23ec4abc",
      "metadata": {
        "id": "23ec4abc"
      },
      "outputs": [],
      "source": [
        "europe = {'spain':'madrid', 'france':'paris', 'germany':'bonn', \n",
        "          'norway':'oslo', 'italy':'rome', 'poland':'warsaw', 'australia':'vienna' }"
      ]
    },
    {
      "cell_type": "code",
      "execution_count": null,
      "id": "0da8b632",
      "metadata": {
        "id": "0da8b632",
        "outputId": "3df9ce1d-be65-4cd8-e119-d89307c067ef"
      },
      "outputs": [
        {
          "name": "stdout",
          "output_type": "stream",
          "text": [
            "the capital of spain is madrid\n",
            "the capital of france is paris\n",
            "the capital of germany is bonn\n",
            "the capital of norway is oslo\n",
            "the capital of italy is rome\n",
            "the capital of poland is warsaw\n",
            "the capital of australia is vienna\n"
          ]
        }
      ],
      "source": [
        "for key, value in europe.items() :\n",
        "     print(\"the capital of \" + str(key) + \" is \" + str(value))\n"
      ]
    },
    {
      "cell_type": "code",
      "execution_count": null,
      "id": "58257afc",
      "metadata": {
        "id": "58257afc",
        "outputId": "cd2d92c9-21c7-46a7-e4bc-4906a2dea93d"
      },
      "outputs": [
        {
          "ename": "ValueError",
          "evalue": "too many values to unpack (expected 2)",
          "output_type": "error",
          "traceback": [
            "\u001b[0;31m---------------------------------------------------------------------------\u001b[0m",
            "\u001b[0;31mValueError\u001b[0m                                Traceback (most recent call last)",
            "\u001b[0;32m/var/folders/1x/c916gy_92854v8wypcsqmqtm001pp3/T/ipykernel_88084/1620556803.py\u001b[0m in \u001b[0;36m<module>\u001b[0;34m\u001b[0m\n\u001b[0;32m----> 1\u001b[0;31m \u001b[0;32mfor\u001b[0m \u001b[0mkey\u001b[0m\u001b[0;34m,\u001b[0m \u001b[0mvalue\u001b[0m \u001b[0;32min\u001b[0m \u001b[0meurope\u001b[0m\u001b[0;34m:\u001b[0m\u001b[0;34m\u001b[0m\u001b[0;34m\u001b[0m\u001b[0m\n\u001b[0m\u001b[1;32m      2\u001b[0m     \u001b[0mprint\u001b[0m\u001b[0;34m(\u001b[0m\u001b[0mkey\u001b[0m\u001b[0;34m)\u001b[0m\u001b[0;34m\u001b[0m\u001b[0;34m\u001b[0m\u001b[0m\n\u001b[1;32m      3\u001b[0m     \u001b[0mprint\u001b[0m\u001b[0;34m(\u001b[0m\u001b[0mvalue\u001b[0m\u001b[0;34m)\u001b[0m\u001b[0;34m\u001b[0m\u001b[0;34m\u001b[0m\u001b[0m\n",
            "\u001b[0;31mValueError\u001b[0m: too many values to unpack (expected 2)"
          ]
        }
      ],
      "source": [
        "for key, value in europe:\n",
        "    print(key)\n",
        "    print(value)"
      ]
    },
    {
      "cell_type": "code",
      "execution_count": null,
      "id": "1a49703c",
      "metadata": {
        "id": "1a49703c",
        "outputId": "eaae70d5-8353-46cd-94df-5bf582abf4aa"
      },
      "outputs": [
        {
          "name": "stdout",
          "output_type": "stream",
          "text": [
            "-50\n",
            "-49\n",
            "-48\n",
            "-47\n",
            "-46\n",
            "-45\n",
            "-44\n",
            "-43\n",
            "-42\n",
            "-41\n",
            "-40\n",
            "-39\n",
            "-38\n",
            "-37\n",
            "-36\n",
            "-35\n",
            "-34\n",
            "-33\n",
            "-32\n",
            "-31\n",
            "-30\n",
            "-29\n",
            "-28\n",
            "-27\n",
            "-26\n",
            "-25\n",
            "-24\n",
            "-23\n",
            "-22\n",
            "-21\n",
            "-20\n",
            "-19\n",
            "-18\n",
            "-17\n",
            "-16\n",
            "-15\n",
            "-14\n",
            "-13\n",
            "-12\n",
            "-11\n",
            "-10\n",
            "-9\n",
            "-8\n",
            "-7\n",
            "-6\n",
            "-5\n",
            "-4\n",
            "-3\n",
            "-2\n",
            "-1\n",
            "0\n"
          ]
        }
      ],
      "source": [
        "for i in range(-50,1):\n",
        "    print(i)"
      ]
    },
    {
      "cell_type": "code",
      "execution_count": null,
      "id": "f937f5c4",
      "metadata": {
        "id": "f937f5c4",
        "outputId": "a18badcf-cefd-4f69-9f1b-9d17a969ccaa"
      },
      "outputs": [
        {
          "name": "stdout",
          "output_type": "stream",
          "text": [
            "Enter Integer9\n",
            "9 * 1 = 9\n",
            "9 * 2 = 18\n",
            "9 * 3 = 27\n",
            "9 * 4 = 36\n",
            "9 * 5 = 45\n",
            "9 * 6 = 54\n",
            "9 * 7 = 63\n",
            "9 * 8 = 72\n",
            "9 * 9 = 81\n",
            "9 * 10 = 90\n"
          ]
        }
      ],
      "source": [
        "number = int(input(\"Enter Integer\"))\n",
        "for count in range (1,11):\n",
        "    product = number* count\n",
        "    print(number, \"*\",count, \"=\", product)"
      ]
    },
    {
      "cell_type": "code",
      "execution_count": null,
      "id": "a28fa482",
      "metadata": {
        "id": "a28fa482",
        "outputId": "544ff39b-d9be-4489-f356-2b31277392af"
      },
      "outputs": [
        {
          "name": "stdout",
          "output_type": "stream",
          "text": [
            "1\n",
            "2\n",
            "3\n",
            "4\n",
            "5\n",
            "6\n",
            "7\n",
            "8\n",
            "9\n"
          ]
        }
      ],
      "source": [
        "for i in range(1,10):\n",
        "    print(i)"
      ]
    },
    {
      "cell_type": "code",
      "execution_count": null,
      "id": "b3aafea3",
      "metadata": {
        "id": "b3aafea3",
        "outputId": "87ee540b-25fb-4260-e9ea-6e511f592443"
      },
      "outputs": [
        {
          "name": "stdout",
          "output_type": "stream",
          "text": [
            "10\n",
            "9\n",
            "8\n",
            "7\n",
            "6\n",
            "5\n",
            "4\n",
            "3\n",
            "2\n",
            "1\n",
            "0\n"
          ]
        }
      ],
      "source": [
        "for i in range(10,-1,-1):   #start, #stop #step\n",
        "    print(i)"
      ]
    },
    {
      "cell_type": "code",
      "execution_count": null,
      "id": "5b0d40e3",
      "metadata": {
        "id": "5b0d40e3",
        "outputId": "3c504f09-e83b-42dd-caab-0781cb64db73"
      },
      "outputs": [
        {
          "name": "stdout",
          "output_type": "stream",
          "text": [
            "Python\n",
            "Matlab\n",
            "R\n",
            "C\n",
            "C++\n"
          ]
        }
      ],
      "source": [
        "person = {\n",
        "    'first_name':'Milaan',\n",
        "    'last_name':'Parmar',\n",
        "    'age':96,\n",
        "    'country':'Finland',\n",
        "    'is_marred':True,\n",
        "    'skills':['Python', 'Matlab', 'R', 'C', 'C++'],\n",
        "    'address':{\n",
        "        'street':'Space street',\n",
        "        'zipcode':'02210'\n",
        "    }\n",
        "}\n",
        "for key in person:\n",
        "    if key == 'skills':\n",
        "        for skill in person['skills']:\n",
        "            print(skill)"
      ]
    },
    {
      "cell_type": "code",
      "execution_count": null,
      "id": "cfa25aef",
      "metadata": {
        "id": "cfa25aef",
        "outputId": "8ba0ea99-f348-41d7-ebd7-1c50363e58e7"
      },
      "outputs": [
        {
          "name": "stdout",
          "output_type": "stream",
          "text": [
            "Python\n",
            "Matlab\n",
            "R\n",
            "C\n",
            "C++\n"
          ]
        }
      ],
      "source": [
        "for keys in person:\n",
        "    if keys == \"skills\":\n",
        "        for skill in person['skills']:\n",
        "            print(skill)\n",
        "        "
      ]
    },
    {
      "cell_type": "code",
      "execution_count": null,
      "id": "7b40e4f4",
      "metadata": {
        "id": "7b40e4f4"
      },
      "outputs": [],
      "source": [
        "color = ['Red', 'Pink']\n",
        "element = ['flower', 'watch']\n",
        "\n",
        "## Red Flower Pink watch  Pink flower Red watch"
      ]
    },
    {
      "cell_type": "code",
      "execution_count": null,
      "id": "d4fa1a59",
      "metadata": {
        "id": "d4fa1a59",
        "outputId": "7b496f45-3984-4760-e0dd-8496ad512f16"
      },
      "outputs": [
        {
          "name": "stdout",
          "output_type": "stream",
          "text": [
            "Red flower\n",
            "Red watch\n",
            "Pink flower\n",
            "Pink watch\n"
          ]
        }
      ],
      "source": [
        "for i in color:\n",
        "    for j in element:\n",
        "        print(i,j)"
      ]
    },
    {
      "cell_type": "code",
      "execution_count": null,
      "id": "152ca4ea",
      "metadata": {
        "id": "152ca4ea",
        "outputId": "25ba1c14-3b4e-4dd8-d506-37843d5612e2"
      },
      "outputs": [
        {
          "name": "stdout",
          "output_type": "stream",
          "text": [
            "Int7\n",
            "*******\n",
            "******\n",
            "*****\n",
            "****\n",
            "***\n",
            "**\n",
            "*\n"
          ]
        }
      ],
      "source": [
        "rows = int(input(\"Int\"))\n",
        "for i in range (1, rows+1):\n",
        "    for j in range (rows, i-1, -1):\n",
        "        print(\"*\", end = \"\")\n",
        "    print('')"
      ]
    },
    {
      "cell_type": "code",
      "execution_count": null,
      "id": "70944d0e",
      "metadata": {
        "id": "70944d0e"
      },
      "outputs": [],
      "source": [
        ""
      ]
    }
  ],
  "metadata": {
    "kernelspec": {
      "display_name": "Python 3 (ipykernel)",
      "language": "python",
      "name": "python3"
    },
    "language_info": {
      "codemirror_mode": {
        "name": "ipython",
        "version": 3
      },
      "file_extension": ".py",
      "mimetype": "text/x-python",
      "name": "python",
      "nbconvert_exporter": "python",
      "pygments_lexer": "ipython3",
      "version": "3.9.7"
    },
    "colab": {
      "name": "For loops.ipynb",
      "provenance": []
    }
  },
  "nbformat": 4,
  "nbformat_minor": 5
}