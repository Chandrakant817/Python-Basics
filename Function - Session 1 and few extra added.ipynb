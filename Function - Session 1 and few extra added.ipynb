{
 "cells": [
  {
   "cell_type": "code",
   "execution_count": 3,
   "id": "6f03c5c1",
   "metadata": {},
   "outputs": [],
   "source": [
    "def square(x):\n",
    "    return x*x"
   ]
  },
  {
   "cell_type": "code",
   "execution_count": 4,
   "id": "54c3e1f3",
   "metadata": {},
   "outputs": [
    {
     "data": {
      "text/plain": [
       "16"
      ]
     },
     "execution_count": 4,
     "metadata": {},
     "output_type": "execute_result"
    }
   ],
   "source": [
    "square(4)"
   ]
  },
  {
   "cell_type": "code",
   "execution_count": 5,
   "id": "71c3365d",
   "metadata": {},
   "outputs": [],
   "source": [
    "def sums(num1,num2):\n",
    "    return num1+num2\n"
   ]
  },
  {
   "cell_type": "code",
   "execution_count": 6,
   "id": "f72ef2b5",
   "metadata": {},
   "outputs": [
    {
     "data": {
      "text/plain": [
       "9"
      ]
     },
     "execution_count": 6,
     "metadata": {},
     "output_type": "execute_result"
    }
   ],
   "source": [
    "sums(4,5)"
   ]
  },
  {
   "cell_type": "code",
   "execution_count": 7,
   "id": "5f3705c1",
   "metadata": {},
   "outputs": [],
   "source": [
    "def subtract(num1,num2):\n",
    "    return num1-num2\n"
   ]
  },
  {
   "cell_type": "code",
   "execution_count": 8,
   "id": "30092faa",
   "metadata": {},
   "outputs": [
    {
     "data": {
      "text/plain": [
       "5"
      ]
     },
     "execution_count": 8,
     "metadata": {},
     "output_type": "execute_result"
    }
   ],
   "source": [
    "subtract(9,4)"
   ]
  },
  {
   "cell_type": "code",
   "execution_count": 9,
   "id": "4a998eca",
   "metadata": {},
   "outputs": [],
   "source": [
    "def mul(num1,num2):\n",
    "    return num1*num2\n"
   ]
  },
  {
   "cell_type": "code",
   "execution_count": 10,
   "id": "92dc0ed7",
   "metadata": {},
   "outputs": [
    {
     "data": {
      "text/plain": [
       "18"
      ]
     },
     "execution_count": 10,
     "metadata": {},
     "output_type": "execute_result"
    }
   ],
   "source": [
    "mul(3,6)"
   ]
  },
  {
   "cell_type": "code",
   "execution_count": 11,
   "id": "c39128e4",
   "metadata": {},
   "outputs": [],
   "source": [
    "def div(num1,num2):\n",
    "    return num1/num2\n"
   ]
  },
  {
   "cell_type": "code",
   "execution_count": 13,
   "id": "68ba8367",
   "metadata": {},
   "outputs": [
    {
     "data": {
      "text/plain": [
       "1.4"
      ]
     },
     "execution_count": 13,
     "metadata": {},
     "output_type": "execute_result"
    }
   ],
   "source": [
    "div(7,5)"
   ]
  },
  {
   "cell_type": "code",
   "execution_count": 19,
   "id": "476e125f",
   "metadata": {},
   "outputs": [],
   "source": [
    "def greet(name,msg = \"Thank you for coming\"):\n",
    "    print(\"Hello\",name + \",\" + msg)"
   ]
  },
  {
   "cell_type": "code",
   "execution_count": 20,
   "id": "9944b5c1",
   "metadata": {},
   "outputs": [
    {
     "name": "stdout",
     "output_type": "stream",
     "text": [
      "Hello Chandra,Thank you for coming\n"
     ]
    }
   ],
   "source": [
    "greet(\"Chandra\")"
   ]
  },
  {
   "cell_type": "code",
   "execution_count": null,
   "id": "f25d12d9",
   "metadata": {},
   "outputs": [],
   "source": []
  },
  {
   "cell_type": "code",
   "execution_count": 1,
   "id": "bf2a79fc",
   "metadata": {},
   "outputs": [],
   "source": [
    "import math as mt"
   ]
  },
  {
   "cell_type": "code",
   "execution_count": 2,
   "id": "72b020c4",
   "metadata": {},
   "outputs": [
    {
     "data": {
      "text/plain": [
       "6"
      ]
     },
     "execution_count": 2,
     "metadata": {},
     "output_type": "execute_result"
    }
   ],
   "source": [
    "mt.factorial(3)"
   ]
  },
  {
   "cell_type": "code",
   "execution_count": 4,
   "id": "e01d3ca7",
   "metadata": {},
   "outputs": [
    {
     "name": "stdout",
     "output_type": "stream",
     "text": [
      "['__doc__', '__loader__', '__name__', '__package__', '__spec__', 'acos', 'acosh', 'asin', 'asinh', 'atan', 'atan2', 'atanh', 'ceil', 'comb', 'copysign', 'cos', 'cosh', 'degrees', 'dist', 'e', 'erf', 'erfc', 'exp', 'expm1', 'fabs', 'factorial', 'floor', 'fmod', 'frexp', 'fsum', 'gamma', 'gcd', 'hypot', 'inf', 'isclose', 'isfinite', 'isinf', 'isnan', 'isqrt', 'ldexp', 'lgamma', 'log', 'log10', 'log1p', 'log2', 'modf', 'nan', 'perm', 'pi', 'pow', 'prod', 'radians', 'remainder', 'sin', 'sinh', 'sqrt', 'tan', 'tanh', 'tau', 'trunc'] "
     ]
    }
   ],
   "source": [
    "print(dir(mt),end= \" \")"
   ]
  },
  {
   "cell_type": "code",
   "execution_count": 11,
   "id": "0ba078a8",
   "metadata": {},
   "outputs": [],
   "source": [
    "def factorial(n):\n",
    "    fact=1\n",
    "    for i in range(1,n+1):\n",
    "        fact*=i\n",
    "    return fact\n",
    "    "
   ]
  },
  {
   "cell_type": "code",
   "execution_count": 12,
   "id": "9bbb88a7",
   "metadata": {},
   "outputs": [
    {
     "data": {
      "text/plain": [
       "120"
      ]
     },
     "execution_count": 12,
     "metadata": {},
     "output_type": "execute_result"
    }
   ],
   "source": [
    "factorial(5)"
   ]
  },
  {
   "cell_type": "code",
   "execution_count": 8,
   "id": "31834fe3",
   "metadata": {},
   "outputs": [
    {
     "data": {
      "text/plain": [
       "1"
      ]
     },
     "execution_count": 8,
     "metadata": {},
     "output_type": "execute_result"
    }
   ],
   "source": [
    "mt.factorial(0)"
   ]
  },
  {
   "cell_type": "code",
   "execution_count": 13,
   "id": "4b33f7eb",
   "metadata": {},
   "outputs": [
    {
     "name": "stdout",
     "output_type": "stream",
     "text": [
      "Writing mymath.py\n"
     ]
    }
   ],
   "source": [
    "%%writefile mymath.py\n",
    "\n",
    "def factorial(n):\n",
    "    fact=1\n",
    "    for i in range(1,n+1):\n",
    "        fact*=i\n",
    "    return fact\n",
    "\n",
    "def addi(num1,num2):\n",
    "    return num1+num2\n",
    "\n",
    "def sums(num1,num2):\n",
    "    return num1-num2\n",
    "\n",
    "def mul(num1,num2):\n",
    "    return num1*num2\n",
    "\n",
    "def div(num1,num2):\n",
    "    return num1/num2\n"
   ]
  },
  {
   "cell_type": "code",
   "execution_count": null,
   "id": "6cffa9a8",
   "metadata": {},
   "outputs": [],
   "source": []
  }
 ],
 "metadata": {
  "kernelspec": {
   "display_name": "Python 3",
   "language": "python",
   "name": "python3"
  },
  "language_info": {
   "codemirror_mode": {
    "name": "ipython",
    "version": 3
   },
   "file_extension": ".py",
   "mimetype": "text/x-python",
   "name": "python",
   "nbconvert_exporter": "python",
   "pygments_lexer": "ipython3",
   "version": "3.8.8"
  }
 },
 "nbformat": 4,
 "nbformat_minor": 5
}
