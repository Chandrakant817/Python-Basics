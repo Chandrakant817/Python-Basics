{
 "cells": [
  {
   "cell_type": "markdown",
   "id": "c18e1693",
   "metadata": {},
   "source": [
    "# List\n"
   ]
  },
  {
   "cell_type": "code",
   "execution_count": null,
   "id": "7897ee9e",
   "metadata": {},
   "outputs": [],
   "source": [
    "list1 = [1,2,3] "
   ]
  },
  {
   "cell_type": "code",
   "execution_count": 1,
   "id": "36e86eb1",
   "metadata": {},
   "outputs": [
    {
     "name": "stdout",
     "output_type": "stream",
     "text": [
      "<class 'list'>\n"
     ]
    }
   ],
   "source": [
    "print(list)"
   ]
  },
  {
   "cell_type": "code",
   "execution_count": 3,
   "id": "4efa7e86",
   "metadata": {},
   "outputs": [],
   "source": [
    "list2 = [1,2,3,\"a\"]"
   ]
  },
  {
   "cell_type": "code",
   "execution_count": 4,
   "id": "a9e8684e",
   "metadata": {},
   "outputs": [
    {
     "name": "stdout",
     "output_type": "stream",
     "text": [
      "[1, 2, 3, [1, 2, 3]]\n"
     ]
    }
   ],
   "source": [
    "list3 = [1,2,3,[1,2,3]]\n",
    "print(list3)"
   ]
  },
  {
   "cell_type": "code",
   "execution_count": 9,
   "id": "5330f33e",
   "metadata": {},
   "outputs": [
    {
     "name": "stdout",
     "output_type": "stream",
     "text": [
      "[1, 2, 3, True, 'a', 1.99]\n"
     ]
    }
   ],
   "source": [
    "list4 = [1,2,3,True, \"a\", 1.99]\n",
    "print(list4)"
   ]
  },
  {
   "cell_type": "code",
   "execution_count": 10,
   "id": "c90c2a0d",
   "metadata": {},
   "outputs": [],
   "source": [
    "fruits=['apples','oranges','bananas','mangoes','grapes','strawberry']"
   ]
  },
  {
   "cell_type": "code",
   "execution_count": 11,
   "id": "b4bc2585",
   "metadata": {},
   "outputs": [
    {
     "data": {
      "text/plain": [
       "'apples'"
      ]
     },
     "execution_count": 11,
     "metadata": {},
     "output_type": "execute_result"
    }
   ],
   "source": [
    "fruits[0]"
   ]
  },
  {
   "cell_type": "code",
   "execution_count": 12,
   "id": "a2132390",
   "metadata": {},
   "outputs": [
    {
     "data": {
      "text/plain": [
       "'strawberry'"
      ]
     },
     "execution_count": 12,
     "metadata": {},
     "output_type": "execute_result"
    }
   ],
   "source": [
    "fruits[5]"
   ]
  },
  {
   "cell_type": "code",
   "execution_count": 13,
   "id": "c3070c9d",
   "metadata": {},
   "outputs": [
    {
     "ename": "IndexError",
     "evalue": "list index out of range",
     "output_type": "error",
     "traceback": [
      "\u001b[1;31m---------------------------------------------------------------------------\u001b[0m",
      "\u001b[1;31mIndexError\u001b[0m                                Traceback (most recent call last)",
      "\u001b[1;32m<ipython-input-13-dea9d2912078>\u001b[0m in \u001b[0;36m<module>\u001b[1;34m\u001b[0m\n\u001b[1;32m----> 1\u001b[1;33m \u001b[0mfruits\u001b[0m\u001b[1;33m[\u001b[0m\u001b[1;36m6\u001b[0m\u001b[1;33m]\u001b[0m\u001b[1;33m\u001b[0m\u001b[1;33m\u001b[0m\u001b[0m\n\u001b[0m",
      "\u001b[1;31mIndexError\u001b[0m: list index out of range"
     ]
    }
   ],
   "source": [
    "fruits[6]"
   ]
  },
  {
   "cell_type": "code",
   "execution_count": 14,
   "id": "5d8957eb",
   "metadata": {},
   "outputs": [
    {
     "data": {
      "text/plain": [
       "[1, 2, 3, [1, 2, 3]]"
      ]
     },
     "execution_count": 14,
     "metadata": {},
     "output_type": "execute_result"
    }
   ],
   "source": [
    "list3"
   ]
  },
  {
   "cell_type": "code",
   "execution_count": 15,
   "id": "3618de70",
   "metadata": {},
   "outputs": [
    {
     "data": {
      "text/plain": [
       "[1, 2, 3]"
      ]
     },
     "execution_count": 15,
     "metadata": {},
     "output_type": "execute_result"
    }
   ],
   "source": [
    "list3[3]"
   ]
  },
  {
   "cell_type": "code",
   "execution_count": 16,
   "id": "033e561b",
   "metadata": {},
   "outputs": [
    {
     "data": {
      "text/plain": [
       "1"
      ]
     },
     "execution_count": 16,
     "metadata": {},
     "output_type": "execute_result"
    }
   ],
   "source": [
    "list3[3][0]"
   ]
  },
  {
   "cell_type": "code",
   "execution_count": 19,
   "id": "d6d675e7",
   "metadata": {},
   "outputs": [
    {
     "data": {
      "text/plain": [
       "['apples', 'oranges']"
      ]
     },
     "execution_count": 19,
     "metadata": {},
     "output_type": "execute_result"
    }
   ],
   "source": [
    "fruits[0:2]"
   ]
  },
  {
   "cell_type": "code",
   "execution_count": 20,
   "id": "df571619",
   "metadata": {},
   "outputs": [
    {
     "data": {
      "text/plain": [
       "'oranges'"
      ]
     },
     "execution_count": 20,
     "metadata": {},
     "output_type": "execute_result"
    }
   ],
   "source": [
    "fruits[-5]"
   ]
  },
  {
   "cell_type": "code",
   "execution_count": 22,
   "id": "e32c6e0b",
   "metadata": {},
   "outputs": [
    {
     "data": {
      "text/plain": [
       "'strawberry'"
      ]
     },
     "execution_count": 22,
     "metadata": {},
     "output_type": "execute_result"
    }
   ],
   "source": [
    "fruits[-1]"
   ]
  },
  {
   "cell_type": "code",
   "execution_count": 23,
   "id": "e4498171",
   "metadata": {},
   "outputs": [
    {
     "data": {
      "text/plain": [
       "True"
      ]
     },
     "execution_count": 23,
     "metadata": {},
     "output_type": "execute_result"
    }
   ],
   "source": [
    "bol = [True,False,True,False]\n",
    "bol[0]"
   ]
  },
  {
   "cell_type": "code",
   "execution_count": 24,
   "id": "3e21dbdc",
   "metadata": {},
   "outputs": [
    {
     "data": {
      "text/plain": [
       "[True, False]"
      ]
     },
     "execution_count": 24,
     "metadata": {},
     "output_type": "execute_result"
    }
   ],
   "source": [
    "bol[0:2]"
   ]
  },
  {
   "cell_type": "code",
   "execution_count": 26,
   "id": "590bb7d7",
   "metadata": {},
   "outputs": [
    {
     "data": {
      "text/plain": [
       "['apples', 'oranges', 'bananas', 'mangoes', 'grapes', 'strawberry']"
      ]
     },
     "execution_count": 26,
     "metadata": {},
     "output_type": "execute_result"
    }
   ],
   "source": [
    "fruits"
   ]
  },
  {
   "cell_type": "code",
   "execution_count": 25,
   "id": "fae32a1a",
   "metadata": {},
   "outputs": [
    {
     "data": {
      "text/plain": [
       "['bananas', 'mangoes']"
      ]
     },
     "execution_count": 25,
     "metadata": {},
     "output_type": "execute_result"
    }
   ],
   "source": [
    "fruits[-4:-2]"
   ]
  },
  {
   "cell_type": "code",
   "execution_count": 28,
   "id": "8e24556b",
   "metadata": {},
   "outputs": [
    {
     "data": {
      "text/plain": [
       "[]"
      ]
     },
     "execution_count": 28,
     "metadata": {},
     "output_type": "execute_result"
    }
   ],
   "source": [
    "fruits[-1:-4]"
   ]
  },
  {
   "cell_type": "code",
   "execution_count": 27,
   "id": "641dc978",
   "metadata": {},
   "outputs": [
    {
     "data": {
      "text/plain": [
       "['strawberry', 'grapes', 'mangoes', 'bananas', 'oranges', 'apples']"
      ]
     },
     "execution_count": 27,
     "metadata": {},
     "output_type": "execute_result"
    }
   ],
   "source": [
    "fruits[::-1]"
   ]
  },
  {
   "cell_type": "code",
   "execution_count": 31,
   "id": "de1e03c9",
   "metadata": {},
   "outputs": [
    {
     "data": {
      "text/plain": [
       "['apples', 'bananas', 'grapes']"
      ]
     },
     "execution_count": 31,
     "metadata": {},
     "output_type": "execute_result"
    }
   ],
   "source": [
    "fruits[::2]"
   ]
  },
  {
   "cell_type": "code",
   "execution_count": 33,
   "id": "7c641621",
   "metadata": {},
   "outputs": [
    {
     "data": {
      "text/plain": [
       "['strawberry', 'mangoes', 'oranges']"
      ]
     },
     "execution_count": 33,
     "metadata": {},
     "output_type": "execute_result"
    }
   ],
   "source": [
    "fruits[::-2]"
   ]
  },
  {
   "cell_type": "code",
   "execution_count": 34,
   "id": "0cd71af2",
   "metadata": {},
   "outputs": [
    {
     "data": {
      "text/plain": [
       "['grapes', 'mangoes']"
      ]
     },
     "execution_count": 34,
     "metadata": {},
     "output_type": "execute_result"
    }
   ],
   "source": [
    "fruits[4:2:-1]"
   ]
  },
  {
   "cell_type": "code",
   "execution_count": 35,
   "id": "39dde22b",
   "metadata": {},
   "outputs": [
    {
     "data": {
      "text/plain": [
       "['grapes', 'mangoes']"
      ]
     },
     "execution_count": 35,
     "metadata": {},
     "output_type": "execute_result"
    }
   ],
   "source": [
    "fruits[-2:-4:-1]"
   ]
  },
  {
   "cell_type": "code",
   "execution_count": 36,
   "id": "16ef67bf",
   "metadata": {},
   "outputs": [
    {
     "data": {
      "text/plain": [
       "['apples', 'oranges', 'bananas', 'mangoes', 'grapes', 'strawberry']"
      ]
     },
     "execution_count": 36,
     "metadata": {},
     "output_type": "execute_result"
    }
   ],
   "source": [
    "fruits"
   ]
  },
  {
   "cell_type": "code",
   "execution_count": 39,
   "id": "af55a3ca",
   "metadata": {},
   "outputs": [],
   "source": [
    "fruits.append(\"lichi\")"
   ]
  },
  {
   "cell_type": "code",
   "execution_count": 41,
   "id": "871ded23",
   "metadata": {},
   "outputs": [
    {
     "data": {
      "text/plain": [
       "['apples', 'oranges', 'bananas', 'mangoes', 'grapes', 'strawberry', 'lichi']"
      ]
     },
     "execution_count": 41,
     "metadata": {},
     "output_type": "execute_result"
    }
   ],
   "source": [
    "fruits"
   ]
  },
  {
   "cell_type": "code",
   "execution_count": 45,
   "id": "daecfa8a",
   "metadata": {},
   "outputs": [
    {
     "ename": "AttributeError",
     "evalue": "'str' object has no attribute 'append'",
     "output_type": "error",
     "traceback": [
      "\u001b[1;31m---------------------------------------------------------------------------\u001b[0m",
      "\u001b[1;31mAttributeError\u001b[0m                            Traceback (most recent call last)",
      "\u001b[1;32m<ipython-input-45-23ec57b89e9d>\u001b[0m in \u001b[0;36m<module>\u001b[1;34m\u001b[0m\n\u001b[0;32m      2\u001b[0m \u001b[1;33m\u001b[0m\u001b[0m\n\u001b[0;32m      3\u001b[0m \u001b[0ma1\u001b[0m \u001b[1;33m=\u001b[0m \u001b[1;34m\"apples\"\u001b[0m\u001b[1;33m\u001b[0m\u001b[1;33m\u001b[0m\u001b[0m\n\u001b[1;32m----> 4\u001b[1;33m \u001b[0ma1\u001b[0m\u001b[1;33m.\u001b[0m\u001b[0mappend\u001b[0m\u001b[1;33m(\u001b[0m\u001b[1;34m's'\u001b[0m\u001b[1;33m)\u001b[0m\u001b[1;33m\u001b[0m\u001b[1;33m\u001b[0m\u001b[0m\n\u001b[0m",
      "\u001b[1;31mAttributeError\u001b[0m: 'str' object has no attribute 'append'"
     ]
    }
   ],
   "source": [
    "#Srting is Immutiable\n",
    "\n",
    "a1 = \"apples\"\n",
    "a1.append('s')"
   ]
  },
  {
   "cell_type": "code",
   "execution_count": 46,
   "id": "61584d11",
   "metadata": {},
   "outputs": [],
   "source": [
    "fruits.insert(2,\"Kiwi\")"
   ]
  },
  {
   "cell_type": "code",
   "execution_count": 47,
   "id": "9904545f",
   "metadata": {},
   "outputs": [
    {
     "data": {
      "text/plain": [
       "['apples',\n",
       " 'jggh',\n",
       " 'Kiwi',\n",
       " 'oranges',\n",
       " 'bananas',\n",
       " 'mangoes',\n",
       " 'grapes',\n",
       " 'strawberry',\n",
       " 'lichi']"
      ]
     },
     "execution_count": 47,
     "metadata": {},
     "output_type": "execute_result"
    }
   ],
   "source": [
    "fruits"
   ]
  },
  {
   "cell_type": "code",
   "execution_count": 53,
   "id": "99791997",
   "metadata": {},
   "outputs": [],
   "source": [
    "revenue  = [100,200,300]"
   ]
  },
  {
   "cell_type": "code",
   "execution_count": 57,
   "id": "e6317bc9",
   "metadata": {},
   "outputs": [],
   "source": [
    "revenue.append(500)"
   ]
  },
  {
   "cell_type": "code",
   "execution_count": 58,
   "id": "f0bbe434",
   "metadata": {},
   "outputs": [
    {
     "data": {
      "text/plain": [
       "[100, 200, 300, 500, 500]"
      ]
     },
     "execution_count": 58,
     "metadata": {},
     "output_type": "execute_result"
    }
   ],
   "source": [
    "revenue"
   ]
  },
  {
   "cell_type": "code",
   "execution_count": 59,
   "id": "0135f94a",
   "metadata": {},
   "outputs": [
    {
     "data": {
      "text/plain": [
       "1600"
      ]
     },
     "execution_count": 59,
     "metadata": {},
     "output_type": "execute_result"
    }
   ],
   "source": [
    "sum(revenue)"
   ]
  },
  {
   "cell_type": "code",
   "execution_count": 62,
   "id": "4900ac00",
   "metadata": {},
   "outputs": [
    {
     "data": {
      "text/plain": [
       "[100, 200, 300, 500]"
      ]
     },
     "execution_count": 62,
     "metadata": {},
     "output_type": "execute_result"
    }
   ],
   "source": [
    "revenue"
   ]
  },
  {
   "cell_type": "code",
   "execution_count": 80,
   "id": "614a7b8a",
   "metadata": {},
   "outputs": [
    {
     "data": {
      "text/plain": [
       "['apples',\n",
       " 'jggh',\n",
       " 'Kiwi',\n",
       " 'oranges',\n",
       " 'bananas',\n",
       " 'mangoes',\n",
       " 'grapes',\n",
       " 'strawberry',\n",
       " 'lichi']"
      ]
     },
     "execution_count": 80,
     "metadata": {},
     "output_type": "execute_result"
    }
   ],
   "source": [
    "fruits"
   ]
  },
  {
   "cell_type": "code",
   "execution_count": 81,
   "id": "01f36be9",
   "metadata": {},
   "outputs": [
    {
     "data": {
      "text/plain": [
       "'lichi'"
      ]
     },
     "execution_count": 81,
     "metadata": {},
     "output_type": "execute_result"
    }
   ],
   "source": [
    "fruits.pop(-1)"
   ]
  },
  {
   "cell_type": "code",
   "execution_count": 82,
   "id": "79fd5aa0",
   "metadata": {},
   "outputs": [
    {
     "data": {
      "text/plain": [
       "['apples',\n",
       " 'jggh',\n",
       " 'Kiwi',\n",
       " 'oranges',\n",
       " 'bananas',\n",
       " 'mangoes',\n",
       " 'grapes',\n",
       " 'strawberry']"
      ]
     },
     "execution_count": 82,
     "metadata": {},
     "output_type": "execute_result"
    }
   ],
   "source": [
    "fruits"
   ]
  },
  {
   "cell_type": "code",
   "execution_count": 83,
   "id": "80468ded",
   "metadata": {},
   "outputs": [
    {
     "data": {
      "text/plain": [
       "'jggh'"
      ]
     },
     "execution_count": 83,
     "metadata": {},
     "output_type": "execute_result"
    }
   ],
   "source": [
    "fruits.pop(1)"
   ]
  },
  {
   "cell_type": "code",
   "execution_count": 84,
   "id": "f9661b6c",
   "metadata": {},
   "outputs": [
    {
     "data": {
      "text/plain": [
       "['apples', 'Kiwi', 'oranges', 'bananas', 'mangoes', 'grapes', 'strawberry']"
      ]
     },
     "execution_count": 84,
     "metadata": {},
     "output_type": "execute_result"
    }
   ],
   "source": [
    "fruits"
   ]
  },
  {
   "cell_type": "code",
   "execution_count": 87,
   "id": "90ac42fb",
   "metadata": {},
   "outputs": [],
   "source": [
    "fruits.append(\"lichi\")"
   ]
  },
  {
   "cell_type": "code",
   "execution_count": 88,
   "id": "6827f332",
   "metadata": {},
   "outputs": [
    {
     "data": {
      "text/plain": [
       "['apples',\n",
       " 'Kiwi',\n",
       " 'oranges',\n",
       " 'bananas',\n",
       " 'mangoes',\n",
       " 'grapes',\n",
       " 'strawberry',\n",
       " 'lichi',\n",
       " 'lichi']"
      ]
     },
     "execution_count": 88,
     "metadata": {},
     "output_type": "execute_result"
    }
   ],
   "source": [
    "fruits"
   ]
  },
  {
   "cell_type": "code",
   "execution_count": 89,
   "id": "70577d6c",
   "metadata": {},
   "outputs": [],
   "source": [
    "fruits.remove(\"lichi\")"
   ]
  },
  {
   "cell_type": "code",
   "execution_count": 90,
   "id": "3370aae9",
   "metadata": {},
   "outputs": [
    {
     "data": {
      "text/plain": [
       "['apples',\n",
       " 'Kiwi',\n",
       " 'oranges',\n",
       " 'bananas',\n",
       " 'mangoes',\n",
       " 'grapes',\n",
       " 'strawberry',\n",
       " 'lichi']"
      ]
     },
     "execution_count": 90,
     "metadata": {},
     "output_type": "execute_result"
    }
   ],
   "source": [
    "fruits"
   ]
  },
  {
   "cell_type": "code",
   "execution_count": 93,
   "id": "8480cb60",
   "metadata": {},
   "outputs": [],
   "source": [
    "del fruits[0:1]"
   ]
  },
  {
   "cell_type": "code",
   "execution_count": 94,
   "id": "7f103810",
   "metadata": {},
   "outputs": [
    {
     "data": {
      "text/plain": [
       "['Kiwi', 'oranges', 'bananas', 'mangoes', 'grapes', 'strawberry', 'lichi']"
      ]
     },
     "execution_count": 94,
     "metadata": {},
     "output_type": "execute_result"
    }
   ],
   "source": [
    "fruits"
   ]
  },
  {
   "cell_type": "code",
   "execution_count": 95,
   "id": "4b552b85",
   "metadata": {},
   "outputs": [],
   "source": [
    "fruits1=('apples','oranges','bananas','mangoes','grapes','strawberry')"
   ]
  },
  {
   "cell_type": "code",
   "execution_count": 96,
   "id": "3f394708",
   "metadata": {},
   "outputs": [
    {
     "data": {
      "text/plain": [
       "('apples', 'oranges', 'bananas', 'mangoes', 'grapes', 'strawberry')"
      ]
     },
     "execution_count": 96,
     "metadata": {},
     "output_type": "execute_result"
    }
   ],
   "source": [
    "fruits1"
   ]
  },
  {
   "cell_type": "code",
   "execution_count": 97,
   "id": "e8e431eb",
   "metadata": {},
   "outputs": [
    {
     "data": {
      "text/plain": [
       "tuple"
      ]
     },
     "execution_count": 97,
     "metadata": {},
     "output_type": "execute_result"
    }
   ],
   "source": [
    "type(fruits1)"
   ]
  },
  {
   "cell_type": "code",
   "execution_count": 99,
   "id": "d5b7ccbb",
   "metadata": {},
   "outputs": [
    {
     "ename": "AttributeError",
     "evalue": "'tuple' object has no attribute 'append'",
     "output_type": "error",
     "traceback": [
      "\u001b[1;31m---------------------------------------------------------------------------\u001b[0m",
      "\u001b[1;31mAttributeError\u001b[0m                            Traceback (most recent call last)",
      "\u001b[1;32m<ipython-input-99-4a4f1003e720>\u001b[0m in \u001b[0;36m<module>\u001b[1;34m\u001b[0m\n\u001b[1;32m----> 1\u001b[1;33m \u001b[0mfruits1\u001b[0m\u001b[1;33m.\u001b[0m\u001b[0mappend\u001b[0m\u001b[1;33m(\u001b[0m\u001b[1;34m\"lichi\"\u001b[0m\u001b[1;33m)\u001b[0m\u001b[1;33m\u001b[0m\u001b[1;33m\u001b[0m\u001b[0m\n\u001b[0m",
      "\u001b[1;31mAttributeError\u001b[0m: 'tuple' object has no attribute 'append'"
     ]
    }
   ],
   "source": [
    "fruits1.append(\"lichi\")"
   ]
  },
  {
   "cell_type": "code",
   "execution_count": 105,
   "id": "d7282433",
   "metadata": {},
   "outputs": [],
   "source": [
    "fruits.sort()"
   ]
  },
  {
   "cell_type": "code",
   "execution_count": 106,
   "id": "d537d361",
   "metadata": {},
   "outputs": [
    {
     "data": {
      "text/plain": [
       "['Kiwi',\n",
       " 'bananas',\n",
       " 'grapes',\n",
       " 'lichi',\n",
       " 'lichi',\n",
       " 'mangoes',\n",
       " 'oranges',\n",
       " 'strawberry']"
      ]
     },
     "execution_count": 106,
     "metadata": {},
     "output_type": "execute_result"
    }
   ],
   "source": [
    "fruits"
   ]
  },
  {
   "cell_type": "code",
   "execution_count": 107,
   "id": "07363541",
   "metadata": {},
   "outputs": [],
   "source": [
    "fruits.sort(reverse=True)"
   ]
  },
  {
   "cell_type": "code",
   "execution_count": 108,
   "id": "bb3ccd0d",
   "metadata": {},
   "outputs": [
    {
     "data": {
      "text/plain": [
       "['strawberry',\n",
       " 'oranges',\n",
       " 'mangoes',\n",
       " 'lichi',\n",
       " 'lichi',\n",
       " 'grapes',\n",
       " 'bananas',\n",
       " 'Kiwi']"
      ]
     },
     "execution_count": 108,
     "metadata": {},
     "output_type": "execute_result"
    }
   ],
   "source": [
    "fruits"
   ]
  },
  {
   "cell_type": "code",
   "execution_count": 109,
   "id": "4f8077a1",
   "metadata": {},
   "outputs": [
    {
     "ename": "AttributeError",
     "evalue": "'tuple' object has no attribute 'sort'",
     "output_type": "error",
     "traceback": [
      "\u001b[1;31m---------------------------------------------------------------------------\u001b[0m",
      "\u001b[1;31mAttributeError\u001b[0m                            Traceback (most recent call last)",
      "\u001b[1;32m<ipython-input-109-7f1056a33bb4>\u001b[0m in \u001b[0;36m<module>\u001b[1;34m\u001b[0m\n\u001b[1;32m----> 1\u001b[1;33m \u001b[0mfruits1\u001b[0m\u001b[1;33m.\u001b[0m\u001b[0msort\u001b[0m\u001b[1;33m(\u001b[0m\u001b[1;33m)\u001b[0m\u001b[1;33m\u001b[0m\u001b[1;33m\u001b[0m\u001b[0m\n\u001b[0m",
      "\u001b[1;31mAttributeError\u001b[0m: 'tuple' object has no attribute 'sort'"
     ]
    }
   ],
   "source": [
    "fruits1.sort()"
   ]
  },
  {
   "cell_type": "code",
   "execution_count": 110,
   "id": "b66d952b",
   "metadata": {},
   "outputs": [
    {
     "name": "stdout",
     "output_type": "stream",
     "text": [
      "['strawberry', 'oranges', 'mangoes', 'grapes', 'bananas', 'apples']\n"
     ]
    }
   ],
   "source": [
    "print(sorted(fruits1,reverse = True))"
   ]
  },
  {
   "cell_type": "code",
   "execution_count": 111,
   "id": "1e51c606",
   "metadata": {},
   "outputs": [
    {
     "data": {
      "text/plain": [
       "('apples', 'oranges', 'bananas', 'mangoes', 'grapes', 'strawberry')"
      ]
     },
     "execution_count": 111,
     "metadata": {},
     "output_type": "execute_result"
    }
   ],
   "source": [
    "fruits1"
   ]
  },
  {
   "cell_type": "code",
   "execution_count": 113,
   "id": "7227c3f0",
   "metadata": {},
   "outputs": [],
   "source": [
    "string= \"hgdfjgsfgsfg\""
   ]
  },
  {
   "cell_type": "code",
   "execution_count": 115,
   "id": "86367cee",
   "metadata": {},
   "outputs": [
    {
     "name": "stdout",
     "output_type": "stream",
     "text": [
      "['d', 'f', 'f', 'f', 'g', 'g', 'g', 'g', 'h', 'j', 's', 's']\n"
     ]
    }
   ],
   "source": [
    "print(sorted(string))"
   ]
  },
  {
   "cell_type": "code",
   "execution_count": 116,
   "id": "66c689ca",
   "metadata": {},
   "outputs": [
    {
     "ename": "TypeError",
     "evalue": "'<' not supported between instances of 'str' and 'int'",
     "output_type": "error",
     "traceback": [
      "\u001b[1;31m---------------------------------------------------------------------------\u001b[0m",
      "\u001b[1;31mTypeError\u001b[0m                                 Traceback (most recent call last)",
      "\u001b[1;32m<ipython-input-116-7870e38f7bf9>\u001b[0m in \u001b[0;36m<module>\u001b[1;34m\u001b[0m\n\u001b[0;32m      1\u001b[0m \u001b[0ma3\u001b[0m \u001b[1;33m=\u001b[0m \u001b[1;33m[\u001b[0m\u001b[1;36m1\u001b[0m\u001b[1;33m,\u001b[0m\u001b[1;34m\"a\"\u001b[0m\u001b[1;33m,\u001b[0m\u001b[1;36m1.0\u001b[0m\u001b[1;33m]\u001b[0m\u001b[1;33m\u001b[0m\u001b[1;33m\u001b[0m\u001b[0m\n\u001b[1;32m----> 2\u001b[1;33m \u001b[0ma3\u001b[0m\u001b[1;33m.\u001b[0m\u001b[0msort\u001b[0m\u001b[1;33m(\u001b[0m\u001b[1;33m)\u001b[0m\u001b[1;33m\u001b[0m\u001b[1;33m\u001b[0m\u001b[0m\n\u001b[0m",
      "\u001b[1;31mTypeError\u001b[0m: '<' not supported between instances of 'str' and 'int'"
     ]
    }
   ],
   "source": [
    "a3 = [1,\"a\",1.0]\n",
    "a3.sort()"
   ]
  },
  {
   "cell_type": "code",
   "execution_count": 117,
   "id": "5e2ff609",
   "metadata": {},
   "outputs": [],
   "source": [
    "a5 = [5,7,8,9,2]"
   ]
  },
  {
   "cell_type": "code",
   "execution_count": 118,
   "id": "bec4b907",
   "metadata": {},
   "outputs": [
    {
     "data": {
      "text/plain": [
       "9"
      ]
     },
     "execution_count": 118,
     "metadata": {},
     "output_type": "execute_result"
    }
   ],
   "source": [
    "max(a5)"
   ]
  },
  {
   "cell_type": "code",
   "execution_count": 119,
   "id": "ea12de3b",
   "metadata": {},
   "outputs": [
    {
     "data": {
      "text/plain": [
       "2"
      ]
     },
     "execution_count": 119,
     "metadata": {},
     "output_type": "execute_result"
    }
   ],
   "source": [
    "min(a5)"
   ]
  },
  {
   "cell_type": "code",
   "execution_count": 120,
   "id": "03023d60",
   "metadata": {},
   "outputs": [
    {
     "data": {
      "text/plain": [
       "31"
      ]
     },
     "execution_count": 120,
     "metadata": {},
     "output_type": "execute_result"
    }
   ],
   "source": [
    "sum(a5)"
   ]
  },
  {
   "cell_type": "code",
   "execution_count": 122,
   "id": "ac672473",
   "metadata": {},
   "outputs": [
    {
     "name": "stdout",
     "output_type": "stream",
     "text": [
      "['strawberry', 'oranges', 'mangoes', 'lichi', 'lichi', 'grapes', 'bananas', 'Kiwi']\n"
     ]
    }
   ],
   "source": [
    "print(sorted(fruits,reverse=True))"
   ]
  },
  {
   "cell_type": "code",
   "execution_count": null,
   "id": "a03a2204",
   "metadata": {},
   "outputs": [],
   "source": []
  },
  {
   "cell_type": "code",
   "execution_count": null,
   "id": "5ee9046e",
   "metadata": {},
   "outputs": [],
   "source": []
  },
  {
   "cell_type": "code",
   "execution_count": null,
   "id": "4146c0d1",
   "metadata": {},
   "outputs": [],
   "source": []
  }
 ],
 "metadata": {
  "kernelspec": {
   "display_name": "Python 3",
   "language": "python",
   "name": "python3"
  },
  "language_info": {
   "codemirror_mode": {
    "name": "ipython",
    "version": 3
   },
   "file_extension": ".py",
   "mimetype": "text/x-python",
   "name": "python",
   "nbconvert_exporter": "python",
   "pygments_lexer": "ipython3",
   "version": "3.8.8"
  }
 },
 "nbformat": 4,
 "nbformat_minor": 5
}
