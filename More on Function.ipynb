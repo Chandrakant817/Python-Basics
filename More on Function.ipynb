{
 "cells": [
  {
   "cell_type": "code",
   "execution_count": 1,
   "id": "044c2770",
   "metadata": {},
   "outputs": [],
   "source": [
    "## In Built function in python\n",
    "\n",
    "y= list(range(1,11))"
   ]
  },
  {
   "cell_type": "code",
   "execution_count": 2,
   "id": "07f2ba11",
   "metadata": {},
   "outputs": [
    {
     "data": {
      "text/plain": [
       "list"
      ]
     },
     "execution_count": 2,
     "metadata": {},
     "output_type": "execute_result"
    }
   ],
   "source": [
    "type(y)"
   ]
  },
  {
   "cell_type": "code",
   "execution_count": null,
   "id": "f926cea8",
   "metadata": {},
   "outputs": [],
   "source": [
    "def name(arguments):\n",
    "    statements\n",
    "    statements\n",
    "    \n",
    "    return values"
   ]
  },
  {
   "cell_type": "code",
   "execution_count": 3,
   "id": "788b532b",
   "metadata": {},
   "outputs": [],
   "source": [
    "def greet():\n",
    "    print(\"Welcome to DS\")"
   ]
  },
  {
   "cell_type": "code",
   "execution_count": 5,
   "id": "b2d64005",
   "metadata": {},
   "outputs": [
    {
     "name": "stdout",
     "output_type": "stream",
     "text": [
      "Welcome to DS\n"
     ]
    }
   ],
   "source": [
    "greet()"
   ]
  },
  {
   "cell_type": "code",
   "execution_count": 10,
   "id": "eca2e2da",
   "metadata": {},
   "outputs": [],
   "source": [
    "def generate_full_name():\n",
    "    first_name = \"Chandrakant \"\n",
    "    last_name = \"Thakur\"\n",
    "    full_name = first_name + last_name\n",
    "    print(full_name)"
   ]
  },
  {
   "cell_type": "code",
   "execution_count": 11,
   "id": "04df27a2",
   "metadata": {},
   "outputs": [
    {
     "name": "stdout",
     "output_type": "stream",
     "text": [
      "Chandrakant Thakur\n"
     ]
    }
   ],
   "source": [
    "generate_full_name()"
   ]
  },
  {
   "cell_type": "code",
   "execution_count": 17,
   "id": "0908eebe",
   "metadata": {},
   "outputs": [],
   "source": [
    "def sum_of_number(n):\n",
    "    total = 0\n",
    "    for i in range(n+1):\n",
    "        total+=i\n",
    "    print(total,end = \" \")"
   ]
  },
  {
   "cell_type": "code",
   "execution_count": 18,
   "id": "26c07bfc",
   "metadata": {},
   "outputs": [
    {
     "name": "stdout",
     "output_type": "stream",
     "text": [
      "55 "
     ]
    }
   ],
   "source": [
    "sum_of_number(10)"
   ]
  },
  {
   "cell_type": "code",
   "execution_count": 21,
   "id": "94691e80",
   "metadata": {},
   "outputs": [],
   "source": [
    "def course(name,course_name):\n",
    "    print(\"Hello\",name,\"Welcome to python for DS\")\n",
    "    print(\"Your Course name is\", course_name)"
   ]
  },
  {
   "cell_type": "code",
   "execution_count": 22,
   "id": "f66692e1",
   "metadata": {},
   "outputs": [
    {
     "name": "stdout",
     "output_type": "stream",
     "text": [
      "Hello Sive Welcome to python for DS\n",
      "Your Course name is Data Science\n"
     ]
    }
   ],
   "source": [
    "course(\"Sive\",\"Data Science\")"
   ]
  },
  {
   "cell_type": "code",
   "execution_count": 28,
   "id": "8792bece",
   "metadata": {},
   "outputs": [],
   "source": [
    "def area_of_circle(r):\n",
    "    PI = 3.14\n",
    "    area = PI * r **2\n",
    "    return area\n",
    "    "
   ]
  },
  {
   "cell_type": "code",
   "execution_count": 29,
   "id": "edee0b74",
   "metadata": {},
   "outputs": [
    {
     "data": {
      "text/plain": [
       "12.56"
      ]
     },
     "execution_count": 29,
     "metadata": {},
     "output_type": "execute_result"
    }
   ],
   "source": [
    "area_of_circle(2)"
   ]
  },
  {
   "cell_type": "code",
   "execution_count": 31,
   "id": "e4a69cc6",
   "metadata": {},
   "outputs": [],
   "source": [
    "def area_of_rectangle(l,b):\n",
    "    area = l*b\n",
    "    return area\n",
    "\n",
    "#area_of_rectangle(2,4)"
   ]
  },
  {
   "cell_type": "code",
   "execution_count": 32,
   "id": "c5f26af5",
   "metadata": {},
   "outputs": [
    {
     "data": {
      "text/plain": [
       "8"
      ]
     },
     "execution_count": 32,
     "metadata": {},
     "output_type": "execute_result"
    }
   ],
   "source": [
    "area_of_rectangle(2,4)"
   ]
  },
  {
   "cell_type": "markdown",
   "id": "c5a1806b",
   "metadata": {},
   "source": [
    "Class & Object"
   ]
  },
  {
   "cell_type": "code",
   "execution_count": 33,
   "id": "6222c1a1",
   "metadata": {},
   "outputs": [],
   "source": [
    "class Person:\n",
    "    pass"
   ]
  },
  {
   "cell_type": "code",
   "execution_count": 34,
   "id": "8bb7c8e1",
   "metadata": {},
   "outputs": [
    {
     "name": "stdout",
     "output_type": "stream",
     "text": [
      "<class '__main__.Person'>\n"
     ]
    }
   ],
   "source": [
    "print(Person)"
   ]
  },
  {
   "cell_type": "code",
   "execution_count": 35,
   "id": "88b542ad",
   "metadata": {},
   "outputs": [],
   "source": [
    "#Create class and object in python\n",
    "\n",
    "#def --> Constructer\n",
    "\n",
    "class student:\n",
    "    def __init__(self,firstname,lastname,age,country,city):\n",
    "        self.firstname=firstname    #instance Variable\n",
    "        self.lastname = lastname    #instance Variable\n",
    "        self.age = age\n",
    "        self.country = country\n",
    "        self.city = city"
   ]
  },
  {
   "cell_type": "code",
   "execution_count": 36,
   "id": "37bb6fdb",
   "metadata": {},
   "outputs": [],
   "source": [
    "roll_1 = student(\"Chandra\",\"Thakur\",21,\"India\",\"Mumbai\")  #roll_1 --> object"
   ]
  },
  {
   "cell_type": "code",
   "execution_count": 39,
   "id": "c979b552",
   "metadata": {},
   "outputs": [
    {
     "name": "stdout",
     "output_type": "stream",
     "text": [
      "Chandra\n"
     ]
    }
   ],
   "source": [
    "print(roll_1.firstname)"
   ]
  },
  {
   "cell_type": "code",
   "execution_count": 40,
   "id": "1cfc2f10",
   "metadata": {},
   "outputs": [
    {
     "name": "stdout",
     "output_type": "stream",
     "text": [
      "Thakur\n"
     ]
    }
   ],
   "source": [
    "print(roll_1.lastname)"
   ]
  },
  {
   "cell_type": "code",
   "execution_count": 41,
   "id": "b8511172",
   "metadata": {},
   "outputs": [],
   "source": [
    "class parrot:\n",
    "    species = \"Bird\"\n",
    "    power = \"Flying\"\n",
    "    \n",
    "    def __init__(self,name,color):\n",
    "        self.name = name\n",
    "        self.color = color\n",
    "        "
   ]
  },
  {
   "cell_type": "code",
   "execution_count": 44,
   "id": "b44a5e38",
   "metadata": {},
   "outputs": [],
   "source": [
    "boo = parrot(\"Mithu\",\"Green\")"
   ]
  },
  {
   "cell_type": "code",
   "execution_count": 45,
   "id": "8525d0a5",
   "metadata": {},
   "outputs": [
    {
     "data": {
      "text/plain": [
       "'Mithu'"
      ]
     },
     "execution_count": 45,
     "metadata": {},
     "output_type": "execute_result"
    }
   ],
   "source": [
    "boo.name"
   ]
  },
  {
   "cell_type": "code",
   "execution_count": 46,
   "id": "c8496b68",
   "metadata": {},
   "outputs": [
    {
     "data": {
      "text/plain": [
       "'Green'"
      ]
     },
     "execution_count": 46,
     "metadata": {},
     "output_type": "execute_result"
    }
   ],
   "source": [
    "boo.color"
   ]
  },
  {
   "cell_type": "code",
   "execution_count": 47,
   "id": "8f43b14b",
   "metadata": {},
   "outputs": [
    {
     "data": {
      "text/plain": [
       "'Flying'"
      ]
     },
     "execution_count": 47,
     "metadata": {},
     "output_type": "execute_result"
    }
   ],
   "source": [
    "boo.power"
   ]
  },
  {
   "cell_type": "code",
   "execution_count": 48,
   "id": "0213e80b",
   "metadata": {},
   "outputs": [
    {
     "data": {
      "text/plain": [
       "'Bird'"
      ]
     },
     "execution_count": 48,
     "metadata": {},
     "output_type": "execute_result"
    }
   ],
   "source": [
    "boo.species"
   ]
  },
  {
   "cell_type": "code",
   "execution_count": 49,
   "id": "8578499e",
   "metadata": {},
   "outputs": [
    {
     "data": {
      "text/plain": [
       "'Bird'"
      ]
     },
     "execution_count": 49,
     "metadata": {},
     "output_type": "execute_result"
    }
   ],
   "source": [
    "parrot.species"
   ]
  },
  {
   "cell_type": "code",
   "execution_count": 50,
   "id": "bf098c2e",
   "metadata": {},
   "outputs": [
    {
     "ename": "AttributeError",
     "evalue": "type object 'parrot' has no attribute 'color'",
     "output_type": "error",
     "traceback": [
      "\u001b[1;31m---------------------------------------------------------------------------\u001b[0m",
      "\u001b[1;31mAttributeError\u001b[0m                            Traceback (most recent call last)",
      "\u001b[1;32m<ipython-input-50-c20c6f018f13>\u001b[0m in \u001b[0;36m<module>\u001b[1;34m\u001b[0m\n\u001b[1;32m----> 1\u001b[1;33m \u001b[0mparrot\u001b[0m\u001b[1;33m.\u001b[0m\u001b[0mcolor\u001b[0m\u001b[1;33m\u001b[0m\u001b[1;33m\u001b[0m\u001b[0m\n\u001b[0m",
      "\u001b[1;31mAttributeError\u001b[0m: type object 'parrot' has no attribute 'color'"
     ]
    }
   ],
   "source": [
    "parrot.color"
   ]
  },
  {
   "cell_type": "code",
   "execution_count": 51,
   "id": "77636039",
   "metadata": {},
   "outputs": [
    {
     "name": "stdout",
     "output_type": "stream",
     "text": [
      "3\n",
      "2\n"
     ]
    },
    {
     "ename": "NameError",
     "evalue": "name 'height' is not defined",
     "output_type": "error",
     "traceback": [
      "\u001b[1;31m---------------------------------------------------------------------------\u001b[0m",
      "\u001b[1;31mNameError\u001b[0m                                 Traceback (most recent call last)",
      "\u001b[1;32m<ipython-input-51-9676fc68cef5>\u001b[0m in \u001b[0;36m<module>\u001b[1;34m\u001b[0m\n\u001b[0;32m     10\u001b[0m \u001b[0mfloat\u001b[0m\u001b[1;33m(\u001b[0m\u001b[0minput\u001b[0m\u001b[1;33m(\u001b[0m\u001b[1;33m)\u001b[0m\u001b[1;33m)\u001b[0m\u001b[1;33m\u001b[0m\u001b[1;33m\u001b[0m\u001b[0m\n\u001b[0;32m     11\u001b[0m \u001b[1;33m\u001b[0m\u001b[0m\n\u001b[1;32m---> 12\u001b[1;33m \u001b[0mprint\u001b[0m\u001b[1;33m(\u001b[0m\u001b[0marea_traingle\u001b[0m\u001b[1;33m(\u001b[0m\u001b[0mheight\u001b[0m\u001b[1;33m,\u001b[0m\u001b[0mbase\u001b[0m\u001b[1;33m)\u001b[0m\u001b[1;33m)\u001b[0m\u001b[1;33m\u001b[0m\u001b[1;33m\u001b[0m\u001b[0m\n\u001b[0m",
      "\u001b[1;31mNameError\u001b[0m: name 'height' is not defined"
     ]
    }
   ],
   "source": [
    "def area_traingle(height,base):\n",
    "    # write your logic here\n",
    "\n",
    "\tprint(0.5*height*base)\n",
    "\n",
    "\n",
    "\n",
    "\n",
    "height = float(input())\n",
    "base = float(input())\n",
    "\n",
    "print(area_traingle(height,base))"
   ]
  },
  {
   "cell_type": "code",
   "execution_count": null,
   "id": "650e5e91",
   "metadata": {},
   "outputs": [],
   "source": []
  }
 ],
 "metadata": {
  "kernelspec": {
   "display_name": "Python 3",
   "language": "python",
   "name": "python3"
  },
  "language_info": {
   "codemirror_mode": {
    "name": "ipython",
    "version": 3
   },
   "file_extension": ".py",
   "mimetype": "text/x-python",
   "name": "python",
   "nbconvert_exporter": "python",
   "pygments_lexer": "ipython3",
   "version": "3.8.8"
  }
 },
 "nbformat": 4,
 "nbformat_minor": 5
}
