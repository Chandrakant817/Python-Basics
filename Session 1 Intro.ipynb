{
 "cells": [
  {
   "cell_type": "code",
   "execution_count": 1,
   "id": "d7077b85",
   "metadata": {},
   "outputs": [
    {
     "name": "stdout",
     "output_type": "stream",
     "text": [
      "Hello world\n"
     ]
    }
   ],
   "source": [
    "#First Program\n",
    "\n",
    "print(\"Hello world\")"
   ]
  },
  {
   "cell_type": "code",
   "execution_count": 12,
   "id": "a73f4fcf",
   "metadata": {},
   "outputs": [],
   "source": [
    "#variable name\n",
    "\n",
    "Alka = 1\n",
    "alka = 5\n",
    "Parag = 2\n",
    "Akshata = 3"
   ]
  },
  {
   "cell_type": "code",
   "execution_count": 13,
   "id": "07b9378c",
   "metadata": {},
   "outputs": [
    {
     "name": "stdout",
     "output_type": "stream",
     "text": [
      "1\n"
     ]
    }
   ],
   "source": [
    "print(Alka)"
   ]
  },
  {
   "cell_type": "code",
   "execution_count": 14,
   "id": "8409db96",
   "metadata": {},
   "outputs": [
    {
     "name": "stdout",
     "output_type": "stream",
     "text": [
      "5\n"
     ]
    }
   ],
   "source": [
    "print(alka)"
   ]
  },
  {
   "cell_type": "code",
   "execution_count": 15,
   "id": "074d9763",
   "metadata": {},
   "outputs": [
    {
     "ename": "SyntaxError",
     "evalue": "invalid syntax (<ipython-input-15-0ed2a8743aad>, line 1)",
     "output_type": "error",
     "traceback": [
      "\u001b[1;36m  File \u001b[1;32m\"<ipython-input-15-0ed2a8743aad>\"\u001b[1;36m, line \u001b[1;32m1\u001b[0m\n\u001b[1;33m    1gaurav = 1\u001b[0m\n\u001b[1;37m     ^\u001b[0m\n\u001b[1;31mSyntaxError\u001b[0m\u001b[1;31m:\u001b[0m invalid syntax\n"
     ]
    }
   ],
   "source": [
    "1gaurav = 1\n",
    "\n",
    "print(1gaurav)"
   ]
  },
  {
   "cell_type": "code",
   "execution_count": 16,
   "id": "951ac6d5",
   "metadata": {},
   "outputs": [
    {
     "name": "stdout",
     "output_type": "stream",
     "text": [
      "1\n"
     ]
    }
   ],
   "source": [
    "gaurav1 = 1\n",
    "print(gaurav1)"
   ]
  },
  {
   "cell_type": "markdown",
   "id": "124a36d8",
   "metadata": {},
   "source": [
    "### Data Type in Python\n",
    "\n",
    "5 Data Types in Python\n",
    "\n",
    "Integer\n",
    "String\n",
    "Boolean\n",
    "Float\n",
    "Complex Number"
   ]
  },
  {
   "cell_type": "code",
   "execution_count": 18,
   "id": "a9dce357",
   "metadata": {},
   "outputs": [],
   "source": [
    "#String\n",
    "\n",
    "my_string = \"Hello World\""
   ]
  },
  {
   "cell_type": "code",
   "execution_count": 21,
   "id": "372e201d",
   "metadata": {},
   "outputs": [
    {
     "name": "stdout",
     "output_type": "stream",
     "text": [
      "<class 'str'>\n"
     ]
    }
   ],
   "source": [
    "print(type(my_string))"
   ]
  },
  {
   "cell_type": "code",
   "execution_count": 25,
   "id": "cce95cce",
   "metadata": {},
   "outputs": [
    {
     "name": "stdout",
     "output_type": "stream",
     "text": [
      "<class 'int'>\n"
     ]
    }
   ],
   "source": [
    "#Integer\n",
    "#Whole Number\n",
    "\n",
    "my_int= 123\n",
    "print(type(my_int))"
   ]
  },
  {
   "cell_type": "code",
   "execution_count": 26,
   "id": "67a3abdc",
   "metadata": {},
   "outputs": [
    {
     "name": "stdout",
     "output_type": "stream",
     "text": [
      "<class 'float'>\n"
     ]
    }
   ],
   "source": [
    "#Float\n",
    "#Decimal Number\n",
    "my_float = 123.0\n",
    "print(type(my_float))"
   ]
  },
  {
   "cell_type": "code",
   "execution_count": 28,
   "id": "79c6d9f6",
   "metadata": {},
   "outputs": [
    {
     "name": "stdout",
     "output_type": "stream",
     "text": [
      "<class 'bool'>\n"
     ]
    }
   ],
   "source": [
    "#Boolean\n",
    "#True and False\n",
    "my_boolean= True   \n",
    "print(type(my_boolean))"
   ]
  },
  {
   "cell_type": "code",
   "execution_count": 29,
   "id": "b71d65df",
   "metadata": {
    "scrolled": true
   },
   "outputs": [
    {
     "name": "stdout",
     "output_type": "stream",
     "text": [
      "<class 'complex'>\n"
     ]
    }
   ],
   "source": [
    "#Complex\n",
    "\n",
    "my_complex = 1+2j\n",
    "print(type(my_complex))"
   ]
  },
  {
   "cell_type": "markdown",
   "id": "eaff7907",
   "metadata": {},
   "source": [
    "### Operators in Python"
   ]
  },
  {
   "cell_type": "code",
   "execution_count": 30,
   "id": "20787480",
   "metadata": {},
   "outputs": [
    {
     "name": "stdout",
     "output_type": "stream",
     "text": [
      "80\n"
     ]
    }
   ],
   "source": [
    "#Addition\n",
    "\n",
    "midsem_marks = 20\n",
    "endsem_marks = 60\n",
    "\n",
    "add_marks = midsem_marks + endsem_marks\n",
    "print(add_marks)"
   ]
  },
  {
   "cell_type": "code",
   "execution_count": 31,
   "id": "d2c80bd3",
   "metadata": {},
   "outputs": [
    {
     "name": "stdout",
     "output_type": "stream",
     "text": [
      "1200\n"
     ]
    }
   ],
   "source": [
    "#Multiplicxation\n",
    "\n",
    "midsem_marks = 20\n",
    "endsem_marks = 60\n",
    "\n",
    "add_marks = midsem_marks * endsem_marks\n",
    "print(add_marks)"
   ]
  },
  {
   "cell_type": "code",
   "execution_count": 33,
   "id": "c2695154",
   "metadata": {},
   "outputs": [
    {
     "name": "stdout",
     "output_type": "stream",
     "text": [
      "40\n"
     ]
    }
   ],
   "source": [
    "#Subtraction\n",
    "\n",
    "midsem_marks = 20\n",
    "endsem_marks = 60\n",
    "\n",
    "add_marks = endsem_marks - midsem_marks\n",
    "print(add_marks)"
   ]
  },
  {
   "cell_type": "code",
   "execution_count": 34,
   "id": "b3ff6dc2",
   "metadata": {},
   "outputs": [
    {
     "name": "stdout",
     "output_type": "stream",
     "text": [
      "3.0\n"
     ]
    }
   ],
   "source": [
    "#Division\n",
    "\n",
    "midsem_marks = 20\n",
    "endsem_marks = 60\n",
    "\n",
    "add_marks = endsem_marks / midsem_marks\n",
    "print(add_marks)"
   ]
  },
  {
   "cell_type": "code",
   "execution_count": 41,
   "id": "445e0b37",
   "metadata": {},
   "outputs": [
    {
     "name": "stdout",
     "output_type": "stream",
     "text": [
      "2.0\n"
     ]
    }
   ],
   "source": [
    "#floor Division\n",
    "\n",
    "midsem_marks = 20.4\n",
    "endsem_marks = 60\n",
    "\n",
    "add_marks = endsem_marks // midsem_marks\n",
    "print(add_marks)"
   ]
  },
  {
   "cell_type": "code",
   "execution_count": 39,
   "id": "ec5f8d03",
   "metadata": {},
   "outputs": [
    {
     "name": "stdout",
     "output_type": "stream",
     "text": [
      "<class 'float'>\n"
     ]
    }
   ],
   "source": [
    "print(type(add_marks))"
   ]
  },
  {
   "cell_type": "code",
   "execution_count": 43,
   "id": "a168883a",
   "metadata": {},
   "outputs": [
    {
     "name": "stdout",
     "output_type": "stream",
     "text": [
      "11\n"
     ]
    }
   ],
   "source": [
    "#Mod\n",
    "\n",
    "midsem_marks = 20\n",
    "endsem_marks = 71\n",
    "\n",
    "add_marks = endsem_marks % midsem_marks\n",
    "print(add_marks)"
   ]
  },
  {
   "cell_type": "markdown",
   "id": "abff7518",
   "metadata": {},
   "source": [
    "### Relation Operators"
   ]
  },
  {
   "cell_type": "code",
   "execution_count": 44,
   "id": "df8e0efd",
   "metadata": {},
   "outputs": [
    {
     "data": {
      "text/plain": [
       "True"
      ]
     },
     "execution_count": 44,
     "metadata": {},
     "output_type": "execute_result"
    }
   ],
   "source": [
    "4>3"
   ]
  },
  {
   "cell_type": "code",
   "execution_count": 45,
   "id": "71de8bea",
   "metadata": {},
   "outputs": [
    {
     "data": {
      "text/plain": [
       "False"
      ]
     },
     "execution_count": 45,
     "metadata": {},
     "output_type": "execute_result"
    }
   ],
   "source": [
    "4<3"
   ]
  },
  {
   "cell_type": "code",
   "execution_count": 46,
   "id": "9e788dde",
   "metadata": {},
   "outputs": [
    {
     "data": {
      "text/plain": [
       "True"
      ]
     },
     "execution_count": 46,
     "metadata": {},
     "output_type": "execute_result"
    }
   ],
   "source": [
    "3>=3"
   ]
  },
  {
   "cell_type": "code",
   "execution_count": 48,
   "id": "c4e3cbfd",
   "metadata": {},
   "outputs": [
    {
     "data": {
      "text/plain": [
       "True"
      ]
     },
     "execution_count": 48,
     "metadata": {},
     "output_type": "execute_result"
    }
   ],
   "source": [
    "4<=4"
   ]
  },
  {
   "cell_type": "code",
   "execution_count": 49,
   "id": "1ae23236",
   "metadata": {},
   "outputs": [
    {
     "data": {
      "text/plain": [
       "True"
      ]
     },
     "execution_count": 49,
     "metadata": {},
     "output_type": "execute_result"
    }
   ],
   "source": [
    "#compare value\n",
    "\n",
    "\"a\" == \"a\""
   ]
  },
  {
   "cell_type": "code",
   "execution_count": 51,
   "id": "3409de0e",
   "metadata": {},
   "outputs": [
    {
     "data": {
      "text/plain": [
       "False"
      ]
     },
     "execution_count": 51,
     "metadata": {},
     "output_type": "execute_result"
    }
   ],
   "source": [
    "(3 * 0.1) == 0.3"
   ]
  },
  {
   "cell_type": "code",
   "execution_count": 52,
   "id": "54699d25",
   "metadata": {},
   "outputs": [
    {
     "data": {
      "text/plain": [
       "0.30000000000000004"
      ]
     },
     "execution_count": 52,
     "metadata": {},
     "output_type": "execute_result"
    }
   ],
   "source": [
    "#Floating point error\n",
    "\n",
    "3*0.1"
   ]
  },
  {
   "cell_type": "code",
   "execution_count": 53,
   "id": "ef9c23b9",
   "metadata": {},
   "outputs": [
    {
     "data": {
      "text/plain": [
       "False"
      ]
     },
     "execution_count": 53,
     "metadata": {},
     "output_type": "execute_result"
    }
   ],
   "source": [
    "6 < 6.0"
   ]
  },
  {
   "cell_type": "code",
   "execution_count": null,
   "id": "1b2ee281",
   "metadata": {},
   "outputs": [],
   "source": []
  },
  {
   "cell_type": "code",
   "execution_count": null,
   "id": "2c406c02",
   "metadata": {},
   "outputs": [],
   "source": []
  }
 ],
 "metadata": {
  "kernelspec": {
   "display_name": "Python 3",
   "language": "python",
   "name": "python3"
  },
  "language_info": {
   "codemirror_mode": {
    "name": "ipython",
    "version": 3
   },
   "file_extension": ".py",
   "mimetype": "text/x-python",
   "name": "python",
   "nbconvert_exporter": "python",
   "pygments_lexer": "ipython3",
   "version": "3.8.8"
  }
 },
 "nbformat": 4,
 "nbformat_minor": 5
}
