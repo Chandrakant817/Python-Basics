{
 "cells": [
  {
   "cell_type": "code",
   "execution_count": 1,
   "id": "45b65bc3",
   "metadata": {},
   "outputs": [],
   "source": [
    "my_first_string = \"algebra is my fav\""
   ]
  },
  {
   "cell_type": "code",
   "execution_count": 9,
   "id": "3d7795af",
   "metadata": {},
   "outputs": [
    {
     "data": {
      "text/plain": [
       "17"
      ]
     },
     "execution_count": 9,
     "metadata": {},
     "output_type": "execute_result"
    }
   ],
   "source": [
    "#length function\n",
    "\n",
    "len(my_first_string)"
   ]
  },
  {
   "cell_type": "markdown",
   "id": "ff77cf76",
   "metadata": {},
   "source": [
    "## String indexing"
   ]
  },
  {
   "cell_type": "code",
   "execution_count": 4,
   "id": "41b887c3",
   "metadata": {},
   "outputs": [],
   "source": [
    "a = \"123\"\n",
    "b = \"321\"\n",
    "\n"
   ]
  },
  {
   "cell_type": "code",
   "execution_count": 8,
   "id": "40bbdab6",
   "metadata": {},
   "outputs": [
    {
     "data": {
      "text/plain": [
       "'a'"
      ]
     },
     "execution_count": 8,
     "metadata": {},
     "output_type": "execute_result"
    }
   ],
   "source": [
    "#Starts from 0\n",
    "\n",
    "string  = \"Principal Component Analysis!\"\n",
    "string[7]"
   ]
  },
  {
   "cell_type": "code",
   "execution_count": 19,
   "id": "d688f2e2",
   "metadata": {},
   "outputs": [
    {
     "data": {
      "text/plain": [
       "29"
      ]
     },
     "execution_count": 19,
     "metadata": {},
     "output_type": "execute_result"
    }
   ],
   "source": [
    "len(string)"
   ]
  },
  {
   "cell_type": "code",
   "execution_count": 10,
   "id": "644da7d4",
   "metadata": {},
   "outputs": [
    {
     "data": {
      "text/plain": [
       "' '"
      ]
     },
     "execution_count": 10,
     "metadata": {},
     "output_type": "execute_result"
    }
   ],
   "source": [
    "string[9]"
   ]
  },
  {
   "cell_type": "code",
   "execution_count": 11,
   "id": "7bedbd28",
   "metadata": {},
   "outputs": [],
   "source": [
    "a1 = \"#s%^&*@@@\""
   ]
  },
  {
   "cell_type": "code",
   "execution_count": 14,
   "id": "f06fb2ff",
   "metadata": {},
   "outputs": [
    {
     "data": {
      "text/plain": [
       "str"
      ]
     },
     "execution_count": 14,
     "metadata": {},
     "output_type": "execute_result"
    }
   ],
   "source": [
    "type(a1)"
   ]
  },
  {
   "cell_type": "code",
   "execution_count": 12,
   "id": "ec382289",
   "metadata": {},
   "outputs": [
    {
     "data": {
      "text/plain": [
       "'*'"
      ]
     },
     "execution_count": 12,
     "metadata": {},
     "output_type": "execute_result"
    }
   ],
   "source": [
    "a1[5]"
   ]
  },
  {
   "cell_type": "code",
   "execution_count": 13,
   "id": "fea7e5ff",
   "metadata": {},
   "outputs": [
    {
     "data": {
      "text/plain": [
       "'#'"
      ]
     },
     "execution_count": 13,
     "metadata": {},
     "output_type": "execute_result"
    }
   ],
   "source": [
    "a1[0]"
   ]
  },
  {
   "cell_type": "code",
   "execution_count": 16,
   "id": "8003dd0c",
   "metadata": {},
   "outputs": [
    {
     "data": {
      "text/plain": [
       "'!'"
      ]
     },
     "execution_count": 16,
     "metadata": {},
     "output_type": "execute_result"
    }
   ],
   "source": [
    "#Reverse Indexing\n",
    "#.............-1,-2,-3,-4.......(0 Does not exists )\n",
    "\n",
    "string[-1]"
   ]
  },
  {
   "cell_type": "code",
   "execution_count": 17,
   "id": "1f78bbe2",
   "metadata": {},
   "outputs": [
    {
     "data": {
      "text/plain": [
       "'!'"
      ]
     },
     "execution_count": 17,
     "metadata": {},
     "output_type": "execute_result"
    }
   ],
   "source": [
    "string[28]"
   ]
  },
  {
   "cell_type": "code",
   "execution_count": 22,
   "id": "1a92b0bd",
   "metadata": {},
   "outputs": [
    {
     "ename": "IndexError",
     "evalue": "string index out of range",
     "output_type": "error",
     "traceback": [
      "\u001b[1;31m---------------------------------------------------------------------------\u001b[0m",
      "\u001b[1;31mIndexError\u001b[0m                                Traceback (most recent call last)",
      "\u001b[1;32m<ipython-input-22-f34d3e2df5e3>\u001b[0m in \u001b[0;36m<module>\u001b[1;34m\u001b[0m\n\u001b[1;32m----> 1\u001b[1;33m \u001b[0mstring\u001b[0m\u001b[1;33m[\u001b[0m\u001b[1;36m29\u001b[0m\u001b[1;33m]\u001b[0m   \u001b[1;31m#Out ot range\u001b[0m\u001b[1;33m\u001b[0m\u001b[1;33m\u001b[0m\u001b[0m\n\u001b[0m",
      "\u001b[1;31mIndexError\u001b[0m: string index out of range"
     ]
    }
   ],
   "source": [
    "string[29]   #Out ot range"
   ]
  },
  {
   "cell_type": "code",
   "execution_count": 23,
   "id": "9242ffd2",
   "metadata": {},
   "outputs": [
    {
     "data": {
      "text/plain": [
       "'P'"
      ]
     },
     "execution_count": 23,
     "metadata": {},
     "output_type": "execute_result"
    }
   ],
   "source": [
    "string[-29]"
   ]
  },
  {
   "cell_type": "markdown",
   "id": "8fbd2f0b",
   "metadata": {},
   "source": [
    "### String slice"
   ]
  },
  {
   "cell_type": "code",
   "execution_count": 24,
   "id": "6dfc3e17",
   "metadata": {},
   "outputs": [
    {
     "name": "stdout",
     "output_type": "stream",
     "text": [
      "Principal Component Analysis!\n"
     ]
    }
   ],
   "source": [
    "print(string) "
   ]
  },
  {
   "cell_type": "code",
   "execution_count": 28,
   "id": "847d6150",
   "metadata": {},
   "outputs": [
    {
     "data": {
      "text/plain": [
       "'Princ'"
      ]
     },
     "execution_count": 28,
     "metadata": {},
     "output_type": "execute_result"
    }
   ],
   "source": [
    "string[:5]"
   ]
  },
  {
   "cell_type": "code",
   "execution_count": 29,
   "id": "3c731460",
   "metadata": {},
   "outputs": [
    {
     "data": {
      "text/plain": [
       "'Princ'"
      ]
     },
     "execution_count": 29,
     "metadata": {},
     "output_type": "execute_result"
    }
   ],
   "source": [
    "string[0:5]"
   ]
  },
  {
   "cell_type": "code",
   "execution_count": 30,
   "id": "42fd5b9f",
   "metadata": {},
   "outputs": [
    {
     "data": {
      "text/plain": [
       "'inc'"
      ]
     },
     "execution_count": 30,
     "metadata": {},
     "output_type": "execute_result"
    }
   ],
   "source": [
    "string[2:5]"
   ]
  },
  {
   "cell_type": "code",
   "execution_count": 31,
   "id": "528a5226",
   "metadata": {},
   "outputs": [
    {
     "data": {
      "text/plain": [
       "'sis'"
      ]
     },
     "execution_count": 31,
     "metadata": {},
     "output_type": "execute_result"
    }
   ],
   "source": [
    "string[-4:-1]"
   ]
  },
  {
   "cell_type": "code",
   "execution_count": 32,
   "id": "ba035494",
   "metadata": {},
   "outputs": [
    {
     "data": {
      "text/plain": [
       "''"
      ]
     },
     "execution_count": 32,
     "metadata": {},
     "output_type": "execute_result"
    }
   ],
   "source": [
    "string[-1:-4]"
   ]
  },
  {
   "cell_type": "code",
   "execution_count": 33,
   "id": "f77516ae",
   "metadata": {},
   "outputs": [
    {
     "data": {
      "text/plain": [
       "'sis!'"
      ]
     },
     "execution_count": 33,
     "metadata": {},
     "output_type": "execute_result"
    }
   ],
   "source": [
    "string[-4:]"
   ]
  },
  {
   "cell_type": "code",
   "execution_count": 34,
   "id": "a9833191",
   "metadata": {},
   "outputs": [
    {
     "data": {
      "text/plain": [
       "'incipal Component Analy'"
      ]
     },
     "execution_count": 34,
     "metadata": {},
     "output_type": "execute_result"
    }
   ],
   "source": [
    "string[2:-4]"
   ]
  },
  {
   "cell_type": "code",
   "execution_count": 37,
   "id": "9bc7c9d8",
   "metadata": {},
   "outputs": [
    {
     "data": {
      "text/plain": [
       "''"
      ]
     },
     "execution_count": 37,
     "metadata": {},
     "output_type": "execute_result"
    }
   ],
   "source": [
    "string[-1:-20]"
   ]
  },
  {
   "cell_type": "code",
   "execution_count": 38,
   "id": "0a1ea698",
   "metadata": {},
   "outputs": [
    {
     "data": {
      "text/plain": [
       "'Principal Component Analysis!'"
      ]
     },
     "execution_count": 38,
     "metadata": {},
     "output_type": "execute_result"
    }
   ],
   "source": [
    "string[::]"
   ]
  },
  {
   "cell_type": "code",
   "execution_count": 40,
   "id": "fb773471",
   "metadata": {},
   "outputs": [
    {
     "data": {
      "text/plain": [
       "'Principal Component Analysis!'"
      ]
     },
     "execution_count": 40,
     "metadata": {},
     "output_type": "execute_result"
    }
   ],
   "source": [
    "string[::1]"
   ]
  },
  {
   "cell_type": "code",
   "execution_count": 41,
   "id": "fbcf09f2",
   "metadata": {},
   "outputs": [
    {
     "data": {
      "text/plain": [
       "'PicplCmoetAayi!'"
      ]
     },
     "execution_count": 41,
     "metadata": {},
     "output_type": "execute_result"
    }
   ],
   "source": [
    "string[::2]"
   ]
  },
  {
   "cell_type": "code",
   "execution_count": 43,
   "id": "3efbc021",
   "metadata": {},
   "outputs": [
    {
     "data": {
      "text/plain": [
       "'!sisylanA tnenopmoC lapicnirP'"
      ]
     },
     "execution_count": 43,
     "metadata": {},
     "output_type": "execute_result"
    }
   ],
   "source": [
    "#Reverse\n",
    "\n",
    "string[::-1]"
   ]
  },
  {
   "cell_type": "code",
   "execution_count": 45,
   "id": "acb27fbf",
   "metadata": {},
   "outputs": [
    {
     "name": "stdout",
     "output_type": "stream",
     "text": [
      "54321\n"
     ]
    }
   ],
   "source": [
    "a3 = \"12345\"\n",
    "print(a3[::-1])"
   ]
  },
  {
   "cell_type": "code",
   "execution_count": 46,
   "id": "978dbdcb",
   "metadata": {},
   "outputs": [
    {
     "data": {
      "text/plain": [
       "''"
      ]
     },
     "execution_count": 46,
     "metadata": {},
     "output_type": "execute_result"
    }
   ],
   "source": [
    "a3[2:4:-1]"
   ]
  },
  {
   "cell_type": "code",
   "execution_count": 47,
   "id": "29236ebc",
   "metadata": {},
   "outputs": [
    {
     "data": {
      "text/plain": [
       "''"
      ]
     },
     "execution_count": 47,
     "metadata": {},
     "output_type": "execute_result"
    }
   ],
   "source": [
    "h=\"Hello\"\n",
    "h[2:4:-1]"
   ]
  },
  {
   "cell_type": "code",
   "execution_count": 48,
   "id": "2438a032",
   "metadata": {},
   "outputs": [
    {
     "data": {
      "text/plain": [
       "''"
      ]
     },
     "execution_count": 48,
     "metadata": {},
     "output_type": "execute_result"
    }
   ],
   "source": [
    "h[4:2:1]"
   ]
  },
  {
   "cell_type": "code",
   "execution_count": 50,
   "id": "eeba7e42",
   "metadata": {},
   "outputs": [
    {
     "data": {
      "text/plain": [
       "6"
      ]
     },
     "execution_count": 50,
     "metadata": {},
     "output_type": "execute_result"
    }
   ],
   "source": [
    "#.....Index value in output\n",
    "\n",
    "string.find(\"p\")"
   ]
  },
  {
   "cell_type": "code",
   "execution_count": 51,
   "id": "13060fce",
   "metadata": {},
   "outputs": [
    {
     "data": {
      "text/plain": [
       "'Principal Component Analysis!'"
      ]
     },
     "execution_count": 51,
     "metadata": {},
     "output_type": "execute_result"
    }
   ],
   "source": [
    "string"
   ]
  },
  {
   "cell_type": "code",
   "execution_count": 52,
   "id": "de2ec789",
   "metadata": {},
   "outputs": [
    {
     "data": {
      "text/plain": [
       "2"
      ]
     },
     "execution_count": 52,
     "metadata": {},
     "output_type": "execute_result"
    }
   ],
   "source": [
    "string.find(\"i\")"
   ]
  },
  {
   "cell_type": "code",
   "execution_count": 53,
   "id": "2d1337f0",
   "metadata": {},
   "outputs": [
    {
     "data": {
      "text/plain": [
       "3"
      ]
     },
     "execution_count": 53,
     "metadata": {},
     "output_type": "execute_result"
    }
   ],
   "source": [
    "string.count(\"i\")"
   ]
  },
  {
   "cell_type": "code",
   "execution_count": 54,
   "id": "8dc20ecb",
   "metadata": {},
   "outputs": [
    {
     "data": {
      "text/plain": [
       "2"
      ]
     },
     "execution_count": 54,
     "metadata": {},
     "output_type": "execute_result"
    }
   ],
   "source": [
    "string.count(\"s\")"
   ]
  },
  {
   "cell_type": "code",
   "execution_count": 55,
   "id": "4a4abc92",
   "metadata": {},
   "outputs": [
    {
     "data": {
      "text/plain": [
       "2"
      ]
     },
     "execution_count": 55,
     "metadata": {},
     "output_type": "execute_result"
    }
   ],
   "source": [
    "string.count(' ')"
   ]
  },
  {
   "cell_type": "code",
   "execution_count": 56,
   "id": "cda093e8",
   "metadata": {},
   "outputs": [],
   "source": [
    "a10=\"Bad Product\""
   ]
  },
  {
   "cell_type": "code",
   "execution_count": 60,
   "id": "92e9028a",
   "metadata": {},
   "outputs": [
    {
     "data": {
      "text/plain": [
       "'BAD PRODUCT'"
      ]
     },
     "execution_count": 60,
     "metadata": {},
     "output_type": "execute_result"
    }
   ],
   "source": [
    "a10.upper()"
   ]
  },
  {
   "cell_type": "code",
   "execution_count": 61,
   "id": "fb862859",
   "metadata": {},
   "outputs": [
    {
     "data": {
      "text/plain": [
       "'bad product'"
      ]
     },
     "execution_count": 61,
     "metadata": {},
     "output_type": "execute_result"
    }
   ],
   "source": [
    "a10.lower()"
   ]
  },
  {
   "cell_type": "code",
   "execution_count": 62,
   "id": "04fb93d5",
   "metadata": {},
   "outputs": [],
   "source": [
    "y10=a10.lower()"
   ]
  },
  {
   "cell_type": "code",
   "execution_count": 63,
   "id": "48cc4c0e",
   "metadata": {},
   "outputs": [
    {
     "data": {
      "text/plain": [
       "'bad product'"
      ]
     },
     "execution_count": 63,
     "metadata": {},
     "output_type": "execute_result"
    }
   ],
   "source": [
    "y10"
   ]
  },
  {
   "cell_type": "code",
   "execution_count": null,
   "id": "975cb7ca",
   "metadata": {},
   "outputs": [],
   "source": []
  }
 ],
 "metadata": {
  "kernelspec": {
   "display_name": "Python 3",
   "language": "python",
   "name": "python3"
  },
  "language_info": {
   "codemirror_mode": {
    "name": "ipython",
    "version": 3
   },
   "file_extension": ".py",
   "mimetype": "text/x-python",
   "name": "python",
   "nbconvert_exporter": "python",
   "pygments_lexer": "ipython3",
   "version": "3.8.8"
  }
 },
 "nbformat": 4,
 "nbformat_minor": 5
}
