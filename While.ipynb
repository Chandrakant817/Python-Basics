{
  "cells": [
    {
      "cell_type": "markdown",
      "id": "96d06e66",
      "metadata": {
        "id": "96d06e66"
      },
      "source": [
        "In programming, a loop means repeating something multiple times. There are different kinds of loops:\n",
        "\n",
        "While loops repeat something while a condition is true.\n",
        "Until loops repeat something while a condition is false.\n",
        "For loops repeat something for each element of something.\n",
        "\n",
        "\n",
        "<img src=\"https://miro.medium.com/max/1400/0*NzgQyvXJvLmy6ndW\"/>\n"
      ]
    },
    {
      "cell_type": "markdown",
      "id": "c1c6be3b",
      "metadata": {
        "id": "c1c6be3b"
      },
      "source": [
        "Loops in Python programming function similar to loops in C, C++, Java or other languages. Python loops are used to repeatedly execute a block of statements until a given condition returns to be False. In Python, we have two types of looping statements, namely:\n",
        "\n",
        "<img src= \"https://github.com/milaan9/03_Python_Flow_Control/raw/f32a787916dd408c49df9a70cc81f82026e999e0//img/loop1.png\">"
      ]
    },
    {
      "cell_type": "code",
      "execution_count": null,
      "id": "d45f5864",
      "metadata": {
        "id": "d45f5864"
      },
      "outputs": [],
      "source": [
        "while test_expression:\n",
        "    <<body of while loop>>"
      ]
    },
    {
      "cell_type": "markdown",
      "id": "241cdc58",
      "metadata": {
        "id": "241cdc58"
      },
      "source": [
        "Here, first the condition is checked and if it’s true, control will move inside the loop and execute the statements inside the loop until the condition becomes false. We use this loop when we are not sure how many times we need to execute a group of statements or you can say that when we are unsure about the number of iterations.\n",
        "\n",
        "\n",
        "<img src= \"https://github.com/milaan9/03_Python_Flow_Control/raw/f32a787916dd408c49df9a70cc81f82026e999e0//img/wh0.png\">"
      ]
    },
    {
      "cell_type": "markdown",
      "id": "40fd1f50",
      "metadata": {
        "id": "40fd1f50"
      },
      "source": [
        "Recap - if statement"
      ]
    },
    {
      "cell_type": "code",
      "execution_count": null,
      "id": "1f629f5e",
      "metadata": {
        "id": "1f629f5e",
        "outputId": "0e792a8c-7944-43d8-f9c2-0f5b37cbadcb"
      },
      "outputs": [
        {
          "name": "stdout",
          "output_type": "stream",
          "text": [
            "Oh crap, it's raining!\n"
          ]
        }
      ],
      "source": [
        "its_raining = True\n",
        "if its_raining:\n",
        "    print(\"Oh crap, it's raining!\")"
      ]
    },
    {
      "cell_type": "markdown",
      "id": "77d97991",
      "metadata": {
        "id": "77d97991"
      },
      "source": [
        "While loops are really similar to if statements.\n",
        "\n"
      ]
    },
    {
      "cell_type": "code",
      "execution_count": null,
      "id": "daf8f001",
      "metadata": {
        "id": "daf8f001",
        "outputId": "cb9e30eb-de59-41ed-ac1c-80b3ff1cf972"
      },
      "outputs": [
        {
          "name": "stdout",
          "output_type": "stream",
          "text": [
            "Oh crap, it's raining!\n"
          ]
        }
      ],
      "source": [
        "its_raining = True\n",
        "while its_raining:\n",
        "    print(\"Oh crap, it's raining!\")\n",
        "    break\n",
        "    # we'll jump back to the line with the word \"while\" from here\n"
      ]
    },
    {
      "cell_type": "code",
      "execution_count": null,
      "id": "6240cc5a",
      "metadata": {
        "id": "6240cc5a",
        "outputId": "b0e252e3-157e-4016-da60-4350fd975377"
      },
      "outputs": [
        {
          "name": "stdout",
          "output_type": "stream",
          "text": [
            "2\n"
          ]
        }
      ],
      "source": [
        "# Example 1: Print numbers less than 5\n",
        "\n",
        "count = 2\n",
        "# run loop till count is less than 5\n",
        "while count < 5:  ##guard\n",
        "    print(count)\n",
        "    count = count + 1\n",
        "               "
      ]
    },
    {
      "cell_type": "code",
      "execution_count": null,
      "id": "0e36440f",
      "metadata": {
        "id": "0e36440f",
        "outputId": "ad3afd3f-cf04-4429-85fb-b7d123ed1db9"
      },
      "outputs": [
        {
          "name": "stdout",
          "output_type": "stream",
          "text": [
            "Sum of first 10 number is: 55\n"
          ]
        }
      ],
      "source": [
        "# Example 2:\n",
        "\n",
        "num = 10\n",
        "sum = 0\n",
        "i = 1\n",
        "while i <= num:        #\n",
        "    sum = sum + i     #0+1 = 1+2+3+4+\n",
        "    i = i + 1         #2 3+1+1+1\n",
        "print(\"Sum of first 10 number is:\", sum)"
      ]
    },
    {
      "cell_type": "code",
      "execution_count": null,
      "id": "a190c302",
      "metadata": {
        "id": "a190c302",
        "outputId": "beda644a-67e3-46eb-833f-e0a5fb79922d"
      },
      "outputs": [
        {
          "name": "stdout",
          "output_type": "stream",
          "text": [
            "Value of a is 10\n",
            "Value of a is 8\n",
            "Value of a is 6\n",
            "Value of a is 4\n",
            "Value of a is 2\n",
            "Loop is Completed\n"
          ]
        }
      ],
      "source": [
        "# Example 3:\n",
        "\n",
        "a=10        # 'a' is my variable 10,8,6,4,2,\n",
        "\n",
        "while a>0:  # Enter the body of while loop because condition is TRUE\n",
        "    print ((\"Value of a is\"),a)\n",
        "    a=a-2\n",
        "print (\"Loop is Completed\")"
      ]
    },
    {
      "cell_type": "code",
      "execution_count": null,
      "id": "5ac351bf",
      "metadata": {
        "id": "5ac351bf",
        "outputId": "76ccaf31-0cdd-4d64-a6e3-c8b484985996"
      },
      "outputs": [
        {
          "name": "stdout",
          "output_type": "stream",
          "text": [
            "Total iteration required 3\n"
          ]
        }
      ],
      "source": [
        "# Example 4: How many times a given number can be divided by 3 before it is less than or equal to 10.\n",
        "\n",
        "count = 0\n",
        "number = 180       # 180/3 = 60/3 =20/3 ~7\n",
        "while number > 10:\n",
        "    # divide number by 3\n",
        "    number = number / 3  ##60\n",
        "    # increase count\n",
        "    count = count + 1\n",
        "print('Total iteration required', count)"
      ]
    },
    {
      "cell_type": "code",
      "execution_count": null,
      "id": "9cce838b",
      "metadata": {
        "id": "9cce838b",
        "outputId": "efc67ef2-2c49-433d-a10d-985accae8ecb"
      },
      "outputs": [
        {
          "name": "stdout",
          "output_type": "stream",
          "text": [
            "You are still playing, because your power is 5.\n",
            "You are still playing, because your power is 4.\n",
            "You are still playing, because your power is 3.\n",
            "You are still playing, because your power is 2.\n",
            "You are still playing, because your power is 1.\n",
            "\n",
            "Oh no, your power dropped to 0! Game Over.\n"
          ]
        }
      ],
      "source": [
        "# The player's power starts out at 5.\n",
        "power = 5\n",
        "\n",
        "# The player is allowed to keep playing as long as their power is over 0.\n",
        "while power > 0:\n",
        "    print(\"You are still playing, because your power is %d.\" % power)\n",
        "    # Your game code would go here, which includes challenges that make it\n",
        "    #   possible to lose power.\n",
        "    # We can represent that by just taking away from the power.\n",
        "    power = power - 1\n",
        "    \n",
        "print(\"\\nOh no, your power dropped to 0! Game Over.\")"
      ]
    },
    {
      "cell_type": "markdown",
      "id": "211b84ab",
      "metadata": {
        "id": "211b84ab"
      },
      "source": [
        "### break, continue, pass\n",
        "We can use break, continue, and pass statements in our loops to add additional functionality for various cases. The three statements are defined by:\n",
        "\n",
        "break: Breaks out of the current closest enclosing loop.\n",
        "continue: Goes to the top of the closest enclosing loop.\n",
        "pass: Does nothing at all.\n",
        "\n",
        "\n",
        "Thinking about break and continue statements, the general format of the while loop looks like this:\n",
        "\n",
        "\n",
        "\n",
        "\n"
      ]
    },
    {
      "cell_type": "code",
      "execution_count": null,
      "id": "4cd23812",
      "metadata": {
        "id": "4cd23812"
      },
      "outputs": [],
      "source": [
        "while test: \n",
        "    code statement\n",
        "    if test: \n",
        "        break\n",
        "    if test: \n",
        "        continue \n",
        "else:\n"
      ]
    },
    {
      "cell_type": "markdown",
      "id": "f923c7b2",
      "metadata": {
        "id": "f923c7b2"
      },
      "source": [
        "break and continue statements can appear anywhere inside the loop’s body, but we will usually put them further nested in conjunction with an if statement to perform an action based on some condition.\n",
        "\n",
        "Let's go ahead and look at some examples!"
      ]
    },
    {
      "cell_type": "markdown",
      "id": "ccf75dbd",
      "metadata": {
        "id": "ccf75dbd"
      },
      "source": [
        "In this example, its_raining was the condition. If something in the while loop would have set its_raining to False, the loop would have ended and the program would have printed It's not raining anymore.\n",
        "\n",
        "Let's actually create a program that does just that:\n",
        "\n"
      ]
    },
    {
      "cell_type": "code",
      "execution_count": null,
      "id": "e67aec61",
      "metadata": {
        "id": "e67aec61"
      },
      "outputs": [],
      "source": [
        "its_raining = True\n",
        "while its_raining:\n",
        "    print(\"It's raining!\")\n",
        "    answer = input(\"Or is it? (y=yes, n=no) \")\n",
        "    if answer == 'y':\n",
        "        print(\"Oh well...\")\n",
        "    elif answer == 'n':\n",
        "        its_raining = False     # end the while loop\n",
        "    else:\n",
        "        print(\"Enter y or n next time.\")\n",
        "print(\"It's not raining anymore.\")"
      ]
    },
    {
      "cell_type": "code",
      "execution_count": null,
      "id": "ca008a55",
      "metadata": {
        "id": "ca008a55",
        "outputId": "e0126424-5454-4744-ee6a-f643641389a5"
      },
      "outputs": [
        {
          "name": "stdout",
          "output_type": "stream",
          "text": [
            "It's raining!\n",
            "Or is it? (y=yes, n=no) y\n",
            "Oh well...\n",
            "It's raining!\n",
            "Or is it? (y=yes, n=no) y\n",
            "Oh well...\n",
            "It's raining!\n",
            "Or is it? (y=yes, n=no) y\n",
            "Oh well...\n",
            "It's raining!\n"
          ]
        },
        {
          "ename": "KeyboardInterrupt",
          "evalue": "Interrupted by user",
          "output_type": "error",
          "traceback": [
            "\u001b[0;31m---------------------------------------------------------------------------\u001b[0m",
            "\u001b[0;31mKeyboardInterrupt\u001b[0m                         Traceback (most recent call last)",
            "\u001b[0;32m/var/folders/1x/c916gy_92854v8wypcsqmqtm001pp3/T/ipykernel_2090/2336766416.py\u001b[0m in \u001b[0;36m<module>\u001b[0;34m\u001b[0m\n\u001b[1;32m      2\u001b[0m \u001b[0;32mwhile\u001b[0m \u001b[0mits_raining\u001b[0m\u001b[0;34m:\u001b[0m\u001b[0;34m\u001b[0m\u001b[0;34m\u001b[0m\u001b[0m\n\u001b[1;32m      3\u001b[0m     \u001b[0mprint\u001b[0m\u001b[0;34m(\u001b[0m\u001b[0;34m\"It's raining!\"\u001b[0m\u001b[0;34m)\u001b[0m\u001b[0;34m\u001b[0m\u001b[0;34m\u001b[0m\u001b[0m\n\u001b[0;32m----> 4\u001b[0;31m     \u001b[0manswer\u001b[0m \u001b[0;34m=\u001b[0m \u001b[0minput\u001b[0m\u001b[0;34m(\u001b[0m\u001b[0;34m\"Or is it? (y=yes, n=no) \"\u001b[0m\u001b[0;34m)\u001b[0m\u001b[0;34m\u001b[0m\u001b[0;34m\u001b[0m\u001b[0m\n\u001b[0m\u001b[1;32m      5\u001b[0m     \u001b[0;32mif\u001b[0m \u001b[0manswer\u001b[0m \u001b[0;34m==\u001b[0m \u001b[0;34m'y'\u001b[0m\u001b[0;34m:\u001b[0m\u001b[0;34m\u001b[0m\u001b[0;34m\u001b[0m\u001b[0m\n\u001b[1;32m      6\u001b[0m         \u001b[0mprint\u001b[0m\u001b[0;34m(\u001b[0m\u001b[0;34m\"Oh well...\"\u001b[0m\u001b[0;34m)\u001b[0m\u001b[0;34m\u001b[0m\u001b[0;34m\u001b[0m\u001b[0m\n",
            "\u001b[0;32m~/opt/anaconda3/lib/python3.9/site-packages/ipykernel/kernelbase.py\u001b[0m in \u001b[0;36mraw_input\u001b[0;34m(self, prompt)\u001b[0m\n\u001b[1;32m   1004\u001b[0m                 \u001b[0;34m\"raw_input was called, but this frontend does not support input requests.\"\u001b[0m\u001b[0;34m\u001b[0m\u001b[0;34m\u001b[0m\u001b[0m\n\u001b[1;32m   1005\u001b[0m             )\n\u001b[0;32m-> 1006\u001b[0;31m         return self._input_request(\n\u001b[0m\u001b[1;32m   1007\u001b[0m             \u001b[0mstr\u001b[0m\u001b[0;34m(\u001b[0m\u001b[0mprompt\u001b[0m\u001b[0;34m)\u001b[0m\u001b[0;34m,\u001b[0m\u001b[0;34m\u001b[0m\u001b[0;34m\u001b[0m\u001b[0m\n\u001b[1;32m   1008\u001b[0m             \u001b[0mself\u001b[0m\u001b[0;34m.\u001b[0m\u001b[0m_parent_ident\u001b[0m\u001b[0;34m[\u001b[0m\u001b[0;34m\"shell\"\u001b[0m\u001b[0;34m]\u001b[0m\u001b[0;34m,\u001b[0m\u001b[0;34m\u001b[0m\u001b[0;34m\u001b[0m\u001b[0m\n",
            "\u001b[0;32m~/opt/anaconda3/lib/python3.9/site-packages/ipykernel/kernelbase.py\u001b[0m in \u001b[0;36m_input_request\u001b[0;34m(self, prompt, ident, parent, password)\u001b[0m\n\u001b[1;32m   1049\u001b[0m             \u001b[0;32mexcept\u001b[0m \u001b[0mKeyboardInterrupt\u001b[0m\u001b[0;34m:\u001b[0m\u001b[0;34m\u001b[0m\u001b[0;34m\u001b[0m\u001b[0m\n\u001b[1;32m   1050\u001b[0m                 \u001b[0;31m# re-raise KeyboardInterrupt, to truncate traceback\u001b[0m\u001b[0;34m\u001b[0m\u001b[0;34m\u001b[0m\u001b[0m\n\u001b[0;32m-> 1051\u001b[0;31m                 \u001b[0;32mraise\u001b[0m \u001b[0mKeyboardInterrupt\u001b[0m\u001b[0;34m(\u001b[0m\u001b[0;34m\"Interrupted by user\"\u001b[0m\u001b[0;34m)\u001b[0m \u001b[0;32mfrom\u001b[0m \u001b[0;32mNone\u001b[0m\u001b[0;34m\u001b[0m\u001b[0;34m\u001b[0m\u001b[0m\n\u001b[0m\u001b[1;32m   1052\u001b[0m             \u001b[0;32mexcept\u001b[0m \u001b[0mException\u001b[0m\u001b[0;34m:\u001b[0m\u001b[0;34m\u001b[0m\u001b[0;34m\u001b[0m\u001b[0m\n\u001b[1;32m   1053\u001b[0m                 \u001b[0mself\u001b[0m\u001b[0;34m.\u001b[0m\u001b[0mlog\u001b[0m\u001b[0;34m.\u001b[0m\u001b[0mwarning\u001b[0m\u001b[0;34m(\u001b[0m\u001b[0;34m\"Invalid Message:\"\u001b[0m\u001b[0;34m,\u001b[0m \u001b[0mexc_info\u001b[0m\u001b[0;34m=\u001b[0m\u001b[0;32mTrue\u001b[0m\u001b[0;34m)\u001b[0m\u001b[0;34m\u001b[0m\u001b[0;34m\u001b[0m\u001b[0m\n",
            "\u001b[0;31mKeyboardInterrupt\u001b[0m: Interrupted by user"
          ]
        }
      ],
      "source": [
        "its_raining = True\n",
        "while its_raining:\n",
        "    print(\"It's raining!\")\n",
        "    answer = input(\"Or is it? (y=yes, n=no) \")\n",
        "    if answer == 'y':\n",
        "        print(\"Oh well...\")\n",
        "    elif answer == 'n':\n",
        "        its_raining = False \n",
        "    else:\n",
        "        print(\"Enter y or n next time.\")\n",
        "print(\"It's not raining anymore.\")"
      ]
    },
    {
      "cell_type": "markdown",
      "id": "b56e3a43",
      "metadata": {
        "id": "b56e3a43"
      },
      "source": [
        "\n",
        "The while loop doesn't check the condition all the time, it only checks it in the beginning."
      ]
    },
    {
      "cell_type": "code",
      "execution_count": null,
      "id": "8691f86b",
      "metadata": {
        "id": "8691f86b",
        "outputId": "542cb6fa-c695-4753-af0d-63c5c2f8ed57"
      },
      "outputs": [
        {
          "name": "stdout",
          "output_type": "stream",
          "text": [
            "It's not raining, but the while loop doesn't know it yet.\n"
          ]
        }
      ],
      "source": [
        "its_raining = True\n",
        "while its_raining:\n",
        "    its_raining = False\n",
        "    print(\"It's not raining, but the while loop doesn't know it yet.\")"
      ]
    },
    {
      "cell_type": "markdown",
      "id": "ac5a5292",
      "metadata": {
        "id": "ac5a5292"
      },
      "source": [
        "We can also interrupt a loop even if the condition is still true using the break keyword. In this case, we'll set condition to True and rely on nothing but break to end the loop.\n",
        "\n"
      ]
    },
    {
      "cell_type": "code",
      "execution_count": null,
      "id": "a052e83a",
      "metadata": {
        "id": "a052e83a",
        "outputId": "b76353ba-5105-4562-c220-fb95f636b955"
      },
      "outputs": [
        {
          "name": "stdout",
          "output_type": "stream",
          "text": [
            "Is it raining? (y=yes, n=no) y\n",
            "It's raining!\n"
          ]
        }
      ],
      "source": [
        "while True:\n",
        "    answer = input(\"Is it raining? (y=yes, n=no) \")\n",
        "    if answer == 'y':\n",
        "        print(\"It's raining!\")\n",
        "        break \n",
        "    elif answer == 'n':\n",
        "        print(\"It's not raining anymore.\")\n",
        "        break   # end the loop\n",
        "    else:\n",
        "        print(\"Enter y or n.\")\n"
      ]
    },
    {
      "cell_type": "code",
      "execution_count": null,
      "id": "3b09c339",
      "metadata": {
        "id": "3b09c339",
        "outputId": "4050bacd-d97b-40cb-d1b9-a7c88755e296"
      },
      "outputs": [
        {
          "name": "stdout",
          "output_type": "stream",
          "text": [
            "This is never printed.\n"
          ]
        }
      ],
      "source": [
        "while True:\n",
        "    print(\"This is never printed.\")\n",
        "    break"
      ]
    },
    {
      "cell_type": "code",
      "execution_count": null,
      "id": "1e83cb0a",
      "metadata": {
        "id": "1e83cb0a",
        "outputId": "8cb08aff-03d7-49f9-ab85-9a14d0877c0a",
        "colab": {
          "base_uri": "https://localhost:8080/"
        }
      },
      "outputs": [
        {
          "output_type": "stream",
          "name": "stdout",
          "text": [
            "Please Enter Number 10\n",
            "10 is a even number\n",
            "9 is a odd number\n",
            "8 is a even number\n",
            "7 is a odd number\n",
            "6 is a even number\n",
            "5 is a odd number\n",
            "4 is a even number\n",
            "3 is a odd number\n",
            "2 is a even number\n",
            "1 is a odd number\n"
          ]
        }
      ],
      "source": [
        "n = int(input('Please Enter Number '))\n",
        "while n > 0:\n",
        "    # check even and odd\n",
        "    if n % 2 == 0:\n",
        "        print(n, 'is a even number')\n",
        "    else:\n",
        "        print(n, 'is a odd number')\n",
        "    # decrease number by 1 in each iteration\n",
        "    n = n - 1"
      ]
    },
    {
      "cell_type": "code",
      "execution_count": null,
      "id": "c5c8f78c",
      "metadata": {
        "id": "c5c8f78c",
        "outputId": "405aab0a-98b0-4fcc-9fce-b4c297c54e4b"
      },
      "outputs": [
        {
          "name": "stdout",
          "output_type": "stream",
          "text": [
            "It's not raining.\n",
            "Is it raining? (y/n) y\n",
            "It's raining!\n"
          ]
        }
      ],
      "source": [
        "raining = False\n",
        "while bas raining: ## While true - run the code, while not false \n",
        "    print(\"It's not raining.\")\n",
        "    if input(\"Is it raining? (y/n) \") == 'y':\n",
        "        raining = True\n",
        "print(\"It's raining!\")"
      ]
    },
    {
      "cell_type": "code",
      "execution_count": null,
      "id": "740d6ae1",
      "metadata": {
        "id": "740d6ae1",
        "outputId": "0feff685-6727-4f56-e5b8-be2107bcf6af",
        "colab": {
          "base_uri": "https://localhost:8080/"
        }
      },
      "outputs": [
        {
          "output_type": "stream",
          "name": "stdout",
          "text": [
            "Value of a is 5\n",
            "Value of a is 4\n",
            "Value of a is 3\n",
            "Value of a is 2\n",
            "Value of a is 1\n",
            "Start the Game\n"
          ]
        }
      ],
      "source": [
        "a=5     \n",
        "\n",
        "while a>0: \n",
        "    print ((\"Value of a is\"),a)\n",
        "    a=a-1\n",
        "print (\"Start the Game\")\n",
        "\n"
      ]
    },
    {
      "cell_type": "code",
      "source": [
        ""
      ],
      "metadata": {
        "id": "XG6jRSnaX3-6"
      },
      "id": "XG6jRSnaX3-6",
      "execution_count": null,
      "outputs": []
    }
  ],
  "metadata": {
    "kernelspec": {
      "display_name": "Python 3 (ipykernel)",
      "language": "python",
      "name": "python3"
    },
    "language_info": {
      "codemirror_mode": {
        "name": "ipython",
        "version": 3
      },
      "file_extension": ".py",
      "mimetype": "text/x-python",
      "name": "python",
      "nbconvert_exporter": "python",
      "pygments_lexer": "ipython3",
      "version": "3.9.7"
    },
    "colab": {
      "name": "While.ipynb",
      "provenance": [],
      "collapsed_sections": []
    }
  },
  "nbformat": 4,
  "nbformat_minor": 5
}